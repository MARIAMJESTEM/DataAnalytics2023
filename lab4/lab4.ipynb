{
 "cells": [
  {
   "attachments": {},
   "cell_type": "markdown",
   "metadata": {},
   "source": [
    "# Lab 4 - Linear models\n",
    "\n",
    "We focus on models in the form \n",
    "\n",
    "$$ y \\sim \\mathrm{Normal}(\\alpha+X\\beta,\\sigma) $$\n",
    "\n"
   ]
  },
  {
   "cell_type": "code",
   "execution_count": 1,
   "metadata": {},
   "outputs": [
    {
     "name": "stderr",
     "output_type": "stream",
     "text": [
      "/usr/local/lib/python3.9/site-packages/tqdm/auto.py:22: TqdmWarning: IProgress not found. Please update jupyter and ipywidgets. See https://ipywidgets.readthedocs.io/en/stable/user_install.html\n",
      "  from .autonotebook import tqdm as notebook_tqdm\n"
     ]
    }
   ],
   "source": [
    "from cmdstanpy import CmdStanModel\n",
    "\n",
    "import seaborn as sns\n",
    "import arviz as az\n",
    "import numpy as np\n",
    "import scipy.stats as stats\n",
    "\n",
    "import matplotlib.pyplot as plt\n",
    "import pandas as pd"
   ]
  },
  {
   "cell_type": "markdown",
   "metadata": {},
   "source": [
    "## Excercise 1 - modelling height of !Kung people"
   ]
  },
  {
   "cell_type": "markdown",
   "metadata": {},
   "source": [
    "### Normal model - no predictors\n",
    "We will try to fit $\\mathrm{Normal}(\\mu,\\sigma)$ distribution to height data. Special case of linear model with $\\beta=0$."
   ]
  },
  {
   "cell_type": "code",
   "execution_count": 2,
   "metadata": {},
   "outputs": [
    {
     "data": {
      "text/html": [
       "<div>\n",
       "<style scoped>\n",
       "    .dataframe tbody tr th:only-of-type {\n",
       "        vertical-align: middle;\n",
       "    }\n",
       "\n",
       "    .dataframe tbody tr th {\n",
       "        vertical-align: top;\n",
       "    }\n",
       "\n",
       "    .dataframe thead th {\n",
       "        text-align: right;\n",
       "    }\n",
       "</style>\n",
       "<table border=\"1\" class=\"dataframe\">\n",
       "  <thead>\n",
       "    <tr style=\"text-align: right;\">\n",
       "      <th></th>\n",
       "      <th>height</th>\n",
       "      <th>weight</th>\n",
       "      <th>age</th>\n",
       "      <th>male</th>\n",
       "    </tr>\n",
       "  </thead>\n",
       "  <tbody>\n",
       "    <tr>\n",
       "      <th>0</th>\n",
       "      <td>151.765</td>\n",
       "      <td>47.825606</td>\n",
       "      <td>63.0</td>\n",
       "      <td>1</td>\n",
       "    </tr>\n",
       "    <tr>\n",
       "      <th>1</th>\n",
       "      <td>139.700</td>\n",
       "      <td>36.485807</td>\n",
       "      <td>63.0</td>\n",
       "      <td>0</td>\n",
       "    </tr>\n",
       "    <tr>\n",
       "      <th>2</th>\n",
       "      <td>136.525</td>\n",
       "      <td>31.864838</td>\n",
       "      <td>65.0</td>\n",
       "      <td>0</td>\n",
       "    </tr>\n",
       "    <tr>\n",
       "      <th>3</th>\n",
       "      <td>156.845</td>\n",
       "      <td>53.041914</td>\n",
       "      <td>41.0</td>\n",
       "      <td>1</td>\n",
       "    </tr>\n",
       "    <tr>\n",
       "      <th>4</th>\n",
       "      <td>145.415</td>\n",
       "      <td>41.276872</td>\n",
       "      <td>51.0</td>\n",
       "      <td>0</td>\n",
       "    </tr>\n",
       "  </tbody>\n",
       "</table>\n",
       "</div>"
      ],
      "text/plain": [
       "    height     weight   age  male\n",
       "0  151.765  47.825606  63.0     1\n",
       "1  139.700  36.485807  63.0     0\n",
       "2  136.525  31.864838  65.0     0\n",
       "3  156.845  53.041914  41.0     1\n",
       "4  145.415  41.276872  51.0     0"
      ]
     },
     "execution_count": 2,
     "metadata": {},
     "output_type": "execute_result"
    }
   ],
   "source": [
    "_BASE_URL = \"https://raw.githubusercontent.com/rmcelreath/rethinking/Experimental/data\"\n",
    "HOWELL_DATASET_PATH = f\"{_BASE_URL}/Howell1.csv\"\n",
    "d = pd.read_csv(HOWELL_DATASET_PATH, sep=';', header=0)\n",
    "d=d[d.age>=18] #just adults \n",
    "d.head()"
   ]
  },
  {
   "cell_type": "code",
   "execution_count": 3,
   "metadata": {},
   "outputs": [
    {
     "name": "stdout",
     "output_type": "stream",
     "text": [
      "<class 'pandas.core.frame.DataFrame'>\n",
      "Int64Index: 352 entries, 0 to 543\n",
      "Data columns (total 4 columns):\n",
      " #   Column  Non-Null Count  Dtype  \n",
      "---  ------  --------------  -----  \n",
      " 0   height  352 non-null    float64\n",
      " 1   weight  352 non-null    float64\n",
      " 2   age     352 non-null    float64\n",
      " 3   male    352 non-null    int64  \n",
      "dtypes: float64(3), int64(1)\n",
      "memory usage: 13.8 KB\n",
      "None\n"
     ]
    }
   ],
   "source": [
    "print(d.info())"
   ]
  },
  {
   "attachments": {},
   "cell_type": "markdown",
   "metadata": {},
   "source": [
    "## Task 1. Prior predictive checks"
   ]
  },
  {
   "cell_type": "code",
   "execution_count": 4,
   "metadata": {},
   "outputs": [
    {
     "name": "stderr",
     "output_type": "stream",
     "text": [
      "INFO:cmdstanpy:found newer exe file, not recompiling\n",
      "INFO:cmdstanpy:CmdStan start processing\n",
      "chain 1 |\u001b[34m██████████\u001b[0m| 00:00 Sampling completed"
     ]
    },
    {
     "name": "stdout",
     "output_type": "stream",
     "text": [
      "                                                                                "
     ]
    },
    {
     "name": "stderr",
     "output_type": "stream",
     "text": [
      "\n",
      "INFO:cmdstanpy:CmdStan done processing.\n"
     ]
    },
    {
     "name": "stdout",
     "output_type": "stream",
     "text": [
      "\n"
     ]
    }
   ],
   "source": [
    "model_ppc=CmdStanModel(stan_file='height_1_ppc.stan')\n",
    "\n",
    "R = 1000\n",
    "sim=model_ppc.sample(iter_sampling=R,\n",
    "                     iter_warmup=0,\n",
    "                     chains=1,\n",
    "                     fixed_param=True,\n",
    "                     seed=29042020,refresh=R)"
   ]
  },
  {
   "cell_type": "code",
   "execution_count": 5,
   "metadata": {},
   "outputs": [
    {
     "data": {
      "text/html": [
       "<div>\n",
       "<style scoped>\n",
       "    .dataframe tbody tr th:only-of-type {\n",
       "        vertical-align: middle;\n",
       "    }\n",
       "\n",
       "    .dataframe tbody tr th {\n",
       "        vertical-align: top;\n",
       "    }\n",
       "\n",
       "    .dataframe thead th {\n",
       "        text-align: right;\n",
       "    }\n",
       "</style>\n",
       "<table border=\"1\" class=\"dataframe\">\n",
       "  <thead>\n",
       "    <tr style=\"text-align: right;\">\n",
       "      <th></th>\n",
       "      <th>lp__</th>\n",
       "      <th>accept_stat__</th>\n",
       "      <th>mi</th>\n",
       "      <th>sigma</th>\n",
       "      <th>height</th>\n",
       "    </tr>\n",
       "  </thead>\n",
       "  <tbody>\n",
       "    <tr>\n",
       "      <th>0</th>\n",
       "      <td>0.0</td>\n",
       "      <td>0.0</td>\n",
       "      <td>170.416</td>\n",
       "      <td>15.7772</td>\n",
       "      <td>150.344</td>\n",
       "    </tr>\n",
       "    <tr>\n",
       "      <th>1</th>\n",
       "      <td>0.0</td>\n",
       "      <td>0.0</td>\n",
       "      <td>165.255</td>\n",
       "      <td>13.6106</td>\n",
       "      <td>168.606</td>\n",
       "    </tr>\n",
       "    <tr>\n",
       "      <th>2</th>\n",
       "      <td>0.0</td>\n",
       "      <td>0.0</td>\n",
       "      <td>167.397</td>\n",
       "      <td>17.2653</td>\n",
       "      <td>184.159</td>\n",
       "    </tr>\n",
       "    <tr>\n",
       "      <th>3</th>\n",
       "      <td>0.0</td>\n",
       "      <td>0.0</td>\n",
       "      <td>166.111</td>\n",
       "      <td>15.5989</td>\n",
       "      <td>165.767</td>\n",
       "    </tr>\n",
       "    <tr>\n",
       "      <th>4</th>\n",
       "      <td>0.0</td>\n",
       "      <td>0.0</td>\n",
       "      <td>167.624</td>\n",
       "      <td>14.6579</td>\n",
       "      <td>163.064</td>\n",
       "    </tr>\n",
       "    <tr>\n",
       "      <th>...</th>\n",
       "      <td>...</td>\n",
       "      <td>...</td>\n",
       "      <td>...</td>\n",
       "      <td>...</td>\n",
       "      <td>...</td>\n",
       "    </tr>\n",
       "    <tr>\n",
       "      <th>995</th>\n",
       "      <td>0.0</td>\n",
       "      <td>0.0</td>\n",
       "      <td>164.946</td>\n",
       "      <td>15.5211</td>\n",
       "      <td>177.124</td>\n",
       "    </tr>\n",
       "    <tr>\n",
       "      <th>996</th>\n",
       "      <td>0.0</td>\n",
       "      <td>0.0</td>\n",
       "      <td>164.188</td>\n",
       "      <td>13.8066</td>\n",
       "      <td>167.968</td>\n",
       "    </tr>\n",
       "    <tr>\n",
       "      <th>997</th>\n",
       "      <td>0.0</td>\n",
       "      <td>0.0</td>\n",
       "      <td>163.727</td>\n",
       "      <td>14.8988</td>\n",
       "      <td>164.788</td>\n",
       "    </tr>\n",
       "    <tr>\n",
       "      <th>998</th>\n",
       "      <td>0.0</td>\n",
       "      <td>0.0</td>\n",
       "      <td>165.018</td>\n",
       "      <td>15.2480</td>\n",
       "      <td>141.740</td>\n",
       "    </tr>\n",
       "    <tr>\n",
       "      <th>999</th>\n",
       "      <td>0.0</td>\n",
       "      <td>0.0</td>\n",
       "      <td>160.660</td>\n",
       "      <td>15.0393</td>\n",
       "      <td>164.307</td>\n",
       "    </tr>\n",
       "  </tbody>\n",
       "</table>\n",
       "<p>1000 rows × 5 columns</p>\n",
       "</div>"
      ],
      "text/plain": [
       "     lp__  accept_stat__       mi    sigma   height\n",
       "0     0.0            0.0  170.416  15.7772  150.344\n",
       "1     0.0            0.0  165.255  13.6106  168.606\n",
       "2     0.0            0.0  167.397  17.2653  184.159\n",
       "3     0.0            0.0  166.111  15.5989  165.767\n",
       "4     0.0            0.0  167.624  14.6579  163.064\n",
       "..    ...            ...      ...      ...      ...\n",
       "995   0.0            0.0  164.946  15.5211  177.124\n",
       "996   0.0            0.0  164.188  13.8066  167.968\n",
       "997   0.0            0.0  163.727  14.8988  164.788\n",
       "998   0.0            0.0  165.018  15.2480  141.740\n",
       "999   0.0            0.0  160.660  15.0393  164.307\n",
       "\n",
       "[1000 rows x 5 columns]"
      ]
     },
     "execution_count": 5,
     "metadata": {},
     "output_type": "execute_result"
    }
   ],
   "source": [
    "df = sim.draws_pd()\n",
    "df"
   ]
  },
  {
   "attachments": {},
   "cell_type": "markdown",
   "metadata": {},
   "source": [
    "### 1. Plot histograms of mu, sigma and simulated height.\n"
   ]
  },
  {
   "cell_type": "code",
   "execution_count": 7,
   "metadata": {},
   "outputs": [
    {
     "data": {
      "text/plain": [
       "Text(0.5, 1.0, 'mu')"
      ]
     },
     "execution_count": 7,
     "metadata": {},
     "output_type": "execute_result"
    },
    {
     "data": {
      "image/png": "[encoded data removed]",
      "text/plain": [
       "<Figure size 432x288 with 1 Axes>"
      ]
     },
     "metadata": {
      "needs_background": "light"
     },
     "output_type": "display_data"
    }
   ],
   "source": [
    "df['mi'].hist(bins=40)\n",
    "plt.title('mu')"
   ]
  },
  {
   "cell_type": "code",
   "execution_count": 8,
   "metadata": {},
   "outputs": [
    {
     "data": {
      "text/plain": [
       "Text(0.5, 1.0, 'sigma')"
      ]
     },
     "execution_count": 8,
     "metadata": {},
     "output_type": "execute_result"
    },
    {
     "data": {
      "image/png": "[encoded data removed]",
      "text/plain": [
       "<Figure size 432x288 with 1 Axes>"
      ]
     },
     "metadata": {
      "needs_background": "light"
     },
     "output_type": "display_data"
    }
   ],
   "source": [
    "df['sigma'].hist(bins=40)\n",
    "plt.title('sigma')"
   ]
  },
  {
   "cell_type": "code",
   "execution_count": 9,
   "metadata": {},
   "outputs": [
    {
     "data": {
      "text/plain": [
       "Text(0.5, 1.0, 'height')"
      ]
     },
     "execution_count": 9,
     "metadata": {},
     "output_type": "execute_result"
    },
    {
     "data": {
      "image/png": "[encoded data removed]",
      "text/plain": [
       "<Figure size 432x288 with 1 Axes>"
      ]
     },
     "metadata": {
      "needs_background": "light"
     },
     "output_type": "display_data"
    }
   ],
   "source": [
    "df['height'].hist(bins=40)\n",
    "plt.title('height')"
   ]
  },
  {
   "attachments": {},
   "cell_type": "markdown",
   "metadata": {},
   "source": [
    "\n",
    "\n",
    "1. Plot histograms of mu, sigma and simulated height.\n",
    "2. Plot a joint distribution of mu and sigma.\n",
    "3. Check if samples are consistent with priors.\n",
    "4. Correct prior parameters to make them reasonably spreaded out. \n",
    "5. Check if observed data is possible to obtain using priors."
   ]
  },
  {
   "attachments": {},
   "cell_type": "markdown",
   "metadata": {},
   "source": [
    "#### 2. Plot a joint distribution of mu and sigma."
   ]
  },
  {
   "cell_type": "code",
   "execution_count": 10,
   "metadata": {},
   "outputs": [],
   "source": [
    "df2 = pd.DataFrame({'mi':df['mi'], 'sigma':df['sigma']})"
   ]
  },
  {
   "cell_type": "code",
   "execution_count": 11,
   "metadata": {},
   "outputs": [
    {
     "data": {
      "text/plain": [
       "<seaborn.axisgrid.JointGrid at 0x7fbc78baf910>"
      ]
     },
     "execution_count": 11,
     "metadata": {},
     "output_type": "execute_result"
    },
    {
     "data": {
      "image/png": "[encoded data removed]",
      "text/plain": [
       "<Figure size 432x432 with 3 Axes>"
      ]
     },
     "metadata": {
      "needs_background": "light"
     },
     "output_type": "display_data"
    }
   ],
   "source": [
    "sns.jointplot(data=df2, x='mi', y='sigma')"
   ]
  },
  {
   "attachments": {},
   "cell_type": "markdown",
   "metadata": {},
   "source": [
    "#### 3. Check if samples are consistent with priors."
   ]
  },
  {
   "cell_type": "code",
   "execution_count": 12,
   "metadata": {},
   "outputs": [
    {
     "data": {
      "image/png": "[encoded data removed]",
      "text/plain": [
       "<Figure size 432x288 with 1 Axes>"
      ]
     },
     "metadata": {
      "needs_background": "light"
     },
     "output_type": "display_data"
    }
   ],
   "source": [
    "mi_prior = 165\n",
    "sigma_prior = 15\n",
    "height_prior = np.random.normal(mi_prior, sigma_prior, size=R)\n",
    "\n",
    "# Plot the prior and posterior distributions of 'height'\n",
    "fig, ax = plt.subplots()\n",
    "ax.hist(height_prior, bins=50, alpha=0.5, density=True, label='Prior')\n",
    "ax.hist(df['height'], bins=50, alpha=0.5, density=True, label='Posterior')\n",
    "ax.set_xlabel('Height')\n",
    "ax.set_ylabel('Density')\n",
    "ax.legend()\n",
    "plt.show()\n",
    "\n"
   ]
  },
  {
   "attachments": {},
   "cell_type": "markdown",
   "metadata": {},
   "source": [
    "#### 4. Correct prior parameters to make them reasonably spreaded out. - change stan file in line sigma to 50 ex"
   ]
  },
  {
   "attachments": {},
   "cell_type": "markdown",
   "metadata": {},
   "source": [
    "#### 5. Check if observed data is possible to obtain using priors."
   ]
  },
  {
   "cell_type": "code",
   "execution_count": 13,
   "metadata": {},
   "outputs": [
    {
     "name": "stdout",
     "output_type": "stream",
     "text": [
      "Z-score: 0.25\n",
      "P-value: 0.8019\n"
     ]
    }
   ],
   "source": [
    "from scipy.stats import norm\n",
    "height_sim = df['height']\n",
    "\n",
    "# Calculated the mean and standard deviation of the simulated data\n",
    "height_mean_sim = np.mean(height_sim)\n",
    "height_std_sim = np.std(height_sim)\n",
    "\n",
    "# Compared the observed data to the simulated data\n",
    "observed_height = 170 \n",
    "z_score = (observed_height - height_mean_sim) / height_std_sim\n",
    "p_value = 2 * (1 - norm.cdf(abs(z_score))) # using a two-tailed test\n",
    "\n",
    "# Results\n",
    "print(f\"Z-score: {z_score:.2f}\")\n",
    "print(f\"P-value: {p_value:.4f}\")\n",
    "# p-value is high and that indicates that observed data is consistent with the model's priors\n",
    "#z-score  positive value indicates that the observed data is higher than the mean of the simulated data"
   ]
  },
  {
   "attachments": {},
   "cell_type": "markdown",
   "metadata": {},
   "source": [
    "## Task 2. Model fit and evaluation"
   ]
  },
  {
   "cell_type": "code",
   "execution_count": 13,
   "metadata": {},
   "outputs": [
    {
     "name": "stderr",
     "output_type": "stream",
     "text": [
      "INFO:cmdstanpy:found newer exe file, not recompiling\n"
     ]
    }
   ],
   "source": [
    "model_1_fit=CmdStanModel(stan_file='height_1_fit.stan')"
   ]
  },
  {
   "cell_type": "code",
   "execution_count": 14,
   "metadata": {},
   "outputs": [
    {
     "name": "stderr",
     "output_type": "stream",
     "text": [
      "INFO:cmdstanpy:CmdStan start processing\n",
      "chain 1 |\u001b[33m          \u001b[0m| 00:00 Status\n",
      "\u001b[A\n",
      "\n",
      "chain 1 |\u001b[34m██████████\u001b[0m| 00:00 Sampling completed\n",
      "chain 2 |\u001b[34m██████████\u001b[0m| 00:00 Sampling completed\n",
      "chain 3 |\u001b[34m██████████\u001b[0m| 00:00 Sampling completed\n",
      "chain 4 |\u001b[34m██████████\u001b[0m| 00:00 Sampling completed"
     ]
    },
    {
     "name": "stdout",
     "output_type": "stream",
     "text": [
      "                                                                                                                                                                                                                                                                                                                                "
     ]
    },
    {
     "name": "stderr",
     "output_type": "stream",
     "text": [
      "\n",
      "INFO:cmdstanpy:CmdStan done processing.\n"
     ]
    },
    {
     "name": "stdout",
     "output_type": "stream",
     "text": [
      "\n"
     ]
    }
   ],
   "source": [
    "fit=model_1_fit.sample(data=dict(N=len(d),\n",
    "                                   heights=d.height.values),\n",
    "                         seed=28052020)"
   ]
  },
  {
   "cell_type": "code",
   "execution_count": 15,
   "metadata": {},
   "outputs": [
    {
     "data": {
      "text/html": [
       "<div>\n",
       "<style scoped>\n",
       "    .dataframe tbody tr th:only-of-type {\n",
       "        vertical-align: middle;\n",
       "    }\n",
       "\n",
       "    .dataframe tbody tr th {\n",
       "        vertical-align: top;\n",
       "    }\n",
       "\n",
       "    .dataframe thead th {\n",
       "        text-align: right;\n",
       "    }\n",
       "</style>\n",
       "<table border=\"1\" class=\"dataframe\">\n",
       "  <thead>\n",
       "    <tr style=\"text-align: right;\">\n",
       "      <th></th>\n",
       "      <th>lp__</th>\n",
       "      <th>accept_stat__</th>\n",
       "      <th>stepsize__</th>\n",
       "      <th>treedepth__</th>\n",
       "      <th>n_leapfrog__</th>\n",
       "      <th>divergent__</th>\n",
       "      <th>energy__</th>\n",
       "      <th>mi</th>\n",
       "      <th>sigma</th>\n",
       "      <th>height_sample</th>\n",
       "    </tr>\n",
       "  </thead>\n",
       "  <tbody>\n",
       "    <tr>\n",
       "      <th>0</th>\n",
       "      <td>-922.270</td>\n",
       "      <td>0.803033</td>\n",
       "      <td>1.217330</td>\n",
       "      <td>2.0</td>\n",
       "      <td>3.0</td>\n",
       "      <td>0.0</td>\n",
       "      <td>922.649</td>\n",
       "      <td>155.504</td>\n",
       "      <td>8.31380</td>\n",
       "      <td>165.897</td>\n",
       "    </tr>\n",
       "    <tr>\n",
       "      <th>1</th>\n",
       "      <td>-921.741</td>\n",
       "      <td>1.000000</td>\n",
       "      <td>1.217330</td>\n",
       "      <td>2.0</td>\n",
       "      <td>3.0</td>\n",
       "      <td>0.0</td>\n",
       "      <td>922.852</td>\n",
       "      <td>155.106</td>\n",
       "      <td>7.98469</td>\n",
       "      <td>144.761</td>\n",
       "    </tr>\n",
       "    <tr>\n",
       "      <th>2</th>\n",
       "      <td>-922.278</td>\n",
       "      <td>0.777707</td>\n",
       "      <td>1.217330</td>\n",
       "      <td>2.0</td>\n",
       "      <td>3.0</td>\n",
       "      <td>0.0</td>\n",
       "      <td>923.466</td>\n",
       "      <td>154.606</td>\n",
       "      <td>9.17593</td>\n",
       "      <td>159.954</td>\n",
       "    </tr>\n",
       "    <tr>\n",
       "      <th>3</th>\n",
       "      <td>-923.222</td>\n",
       "      <td>0.807639</td>\n",
       "      <td>1.217330</td>\n",
       "      <td>2.0</td>\n",
       "      <td>3.0</td>\n",
       "      <td>0.0</td>\n",
       "      <td>924.645</td>\n",
       "      <td>153.739</td>\n",
       "      <td>7.95915</td>\n",
       "      <td>153.032</td>\n",
       "    </tr>\n",
       "    <tr>\n",
       "      <th>4</th>\n",
       "      <td>-921.218</td>\n",
       "      <td>1.000000</td>\n",
       "      <td>1.217330</td>\n",
       "      <td>2.0</td>\n",
       "      <td>3.0</td>\n",
       "      <td>0.0</td>\n",
       "      <td>922.800</td>\n",
       "      <td>154.574</td>\n",
       "      <td>7.94528</td>\n",
       "      <td>164.194</td>\n",
       "    </tr>\n",
       "    <tr>\n",
       "      <th>...</th>\n",
       "      <td>...</td>\n",
       "      <td>...</td>\n",
       "      <td>...</td>\n",
       "      <td>...</td>\n",
       "      <td>...</td>\n",
       "      <td>...</td>\n",
       "      <td>...</td>\n",
       "      <td>...</td>\n",
       "      <td>...</td>\n",
       "      <td>...</td>\n",
       "    </tr>\n",
       "    <tr>\n",
       "      <th>3995</th>\n",
       "      <td>-920.191</td>\n",
       "      <td>0.986629</td>\n",
       "      <td>0.966238</td>\n",
       "      <td>2.0</td>\n",
       "      <td>3.0</td>\n",
       "      <td>0.0</td>\n",
       "      <td>920.359</td>\n",
       "      <td>154.524</td>\n",
       "      <td>8.50789</td>\n",
       "      <td>144.429</td>\n",
       "    </tr>\n",
       "    <tr>\n",
       "      <th>3996</th>\n",
       "      <td>-920.169</td>\n",
       "      <td>0.939478</td>\n",
       "      <td>0.966238</td>\n",
       "      <td>2.0</td>\n",
       "      <td>3.0</td>\n",
       "      <td>0.0</td>\n",
       "      <td>920.646</td>\n",
       "      <td>154.678</td>\n",
       "      <td>8.37679</td>\n",
       "      <td>151.527</td>\n",
       "    </tr>\n",
       "    <tr>\n",
       "      <th>3997</th>\n",
       "      <td>-920.343</td>\n",
       "      <td>0.948138</td>\n",
       "      <td>0.966238</td>\n",
       "      <td>1.0</td>\n",
       "      <td>3.0</td>\n",
       "      <td>0.0</td>\n",
       "      <td>920.469</td>\n",
       "      <td>154.638</td>\n",
       "      <td>8.63952</td>\n",
       "      <td>160.523</td>\n",
       "    </tr>\n",
       "    <tr>\n",
       "      <th>3998</th>\n",
       "      <td>-921.354</td>\n",
       "      <td>0.818350</td>\n",
       "      <td>0.966238</td>\n",
       "      <td>2.0</td>\n",
       "      <td>3.0</td>\n",
       "      <td>0.0</td>\n",
       "      <td>921.754</td>\n",
       "      <td>154.058</td>\n",
       "      <td>8.78571</td>\n",
       "      <td>162.261</td>\n",
       "    </tr>\n",
       "    <tr>\n",
       "      <th>3999</th>\n",
       "      <td>-920.289</td>\n",
       "      <td>0.986049</td>\n",
       "      <td>0.966238</td>\n",
       "      <td>1.0</td>\n",
       "      <td>3.0</td>\n",
       "      <td>0.0</td>\n",
       "      <td>921.203</td>\n",
       "      <td>154.417</td>\n",
       "      <td>8.54210</td>\n",
       "      <td>138.513</td>\n",
       "    </tr>\n",
       "  </tbody>\n",
       "</table>\n",
       "<p>4000 rows × 10 columns</p>\n",
       "</div>"
      ],
      "text/plain": [
       "         lp__  accept_stat__  stepsize__  treedepth__  n_leapfrog__  \\\n",
       "0    -922.270       0.803033    1.217330          2.0           3.0   \n",
       "1    -921.741       1.000000    1.217330          2.0           3.0   \n",
       "2    -922.278       0.777707    1.217330          2.0           3.0   \n",
       "3    -923.222       0.807639    1.217330          2.0           3.0   \n",
       "4    -921.218       1.000000    1.217330          2.0           3.0   \n",
       "...       ...            ...         ...          ...           ...   \n",
       "3995 -920.191       0.986629    0.966238          2.0           3.0   \n",
       "3996 -920.169       0.939478    0.966238          2.0           3.0   \n",
       "3997 -920.343       0.948138    0.966238          1.0           3.0   \n",
       "3998 -921.354       0.818350    0.966238          2.0           3.0   \n",
       "3999 -920.289       0.986049    0.966238          1.0           3.0   \n",
       "\n",
       "      divergent__  energy__       mi    sigma  height_sample  \n",
       "0             0.0   922.649  155.504  8.31380        165.897  \n",
       "1             0.0   922.852  155.106  7.98469        144.761  \n",
       "2             0.0   923.466  154.606  9.17593        159.954  \n",
       "3             0.0   924.645  153.739  7.95915        153.032  \n",
       "4             0.0   922.800  154.574  7.94528        164.194  \n",
       "...           ...       ...      ...      ...            ...  \n",
       "3995          0.0   920.359  154.524  8.50789        144.429  \n",
       "3996          0.0   920.646  154.678  8.37679        151.527  \n",
       "3997          0.0   920.469  154.638  8.63952        160.523  \n",
       "3998          0.0   921.754  154.058  8.78571        162.261  \n",
       "3999          0.0   921.203  154.417  8.54210        138.513  \n",
       "\n",
       "[4000 rows x 10 columns]"
      ]
     },
     "execution_count": 15,
     "metadata": {},
     "output_type": "execute_result"
    }
   ],
   "source": [
    "df3 = fit.draws_pd()\n",
    "df3"
   ]
  },
  {
   "attachments": {},
   "cell_type": "markdown",
   "metadata": {},
   "source": [
    "\n",
    "1. Plot a joint distribution of fitted mu and sigma.\n",
    "2. Plot histograms of data and simulated heights and evaluate the quality of model.\n"
   ]
  },
  {
   "attachments": {},
   "cell_type": "markdown",
   "metadata": {},
   "source": [
    "#### 1. Plot a joint distribution of fitted mu and sigma."
   ]
  },
  {
   "cell_type": "code",
   "execution_count": 16,
   "metadata": {},
   "outputs": [
    {
     "data": {
      "image/png": "[encoded data removed]",
      "text/plain": [
       "<Figure size 432x288 with 1 Axes>"
      ]
     },
     "metadata": {
      "needs_background": "light"
     },
     "output_type": "display_data"
    }
   ],
   "source": [
    "plt.scatter(df3['mi'], df3['sigma'], alpha=0.2)\n",
    "plt.xlabel('mu')\n",
    "plt.ylabel('sigma')\n",
    "plt.show()"
   ]
  },
  {
   "attachments": {},
   "cell_type": "markdown",
   "metadata": {},
   "source": [
    "#### 2. Plot histograms of data and simulated heights and evaluate the quality of model.\n"
   ]
  },
  {
   "cell_type": "code",
   "execution_count": 17,
   "metadata": {},
   "outputs": [
    {
     "data": {
      "text/plain": [
       "<matplotlib.legend.Legend at 0x7fbc79bb3df0>"
      ]
     },
     "execution_count": 17,
     "metadata": {},
     "output_type": "execute_result"
    },
    {
     "data": {
      "image/png": "[encoded data removed]",
      "text/plain": [
       "<Figure size 432x288 with 1 Axes>"
      ]
     },
     "metadata": {
      "needs_background": "light"
     },
     "output_type": "display_data"
    }
   ],
   "source": [
    "df3['height_sample'].hist(alpha = 0.5, bins=20, density=True, label =\"samples\")\n",
    "d['height'].hist(alpha = 0.5, bins =20, density=True, label=\"data\")\n",
    "plt.legend()"
   ]
  },
  {
   "attachments": {},
   "cell_type": "markdown",
   "metadata": {},
   "source": [
    "## Task 3. Adding predictor to the model - weight\n",
    "\n",
    "Create column ```c_weight``` in the dataframe containing weights substrated by their mean.\n"
   ]
  },
  {
   "cell_type": "code",
   "execution_count": 18,
   "metadata": {},
   "outputs": [],
   "source": [
    "d['c_weight']= d['weight']- d['weight'].mean()\n",
    "data_sim={'N':50, 'weight':np.linspace(d.c_weight.min(),d.c_weight.max())}\n"
   ]
  },
  {
   "attachments": {},
   "cell_type": "markdown",
   "metadata": {},
   "source": [
    "## Task 4. Prior predictive checks\n",
    " "
   ]
  },
  {
   "cell_type": "code",
   "execution_count": 26,
   "metadata": {},
   "outputs": [
    {
     "name": "stderr",
     "output_type": "stream",
     "text": [
      "INFO:cmdstanpy:compiling stan file /home/lab4/height_2a_pcc.stan to exe file /home/lab4/height_2a_pcc\n",
      "INFO:cmdstanpy:compiled model executable: /home/lab4/height_2a_pcc\n",
      "INFO:cmdstanpy:CmdStan start processing\n",
      "chain 1 |\u001b[34m██████████\u001b[0m| 00:00 Sampling completed"
     ]
    },
    {
     "name": "stdout",
     "output_type": "stream",
     "text": [
      "                                                                                "
     ]
    },
    {
     "name": "stderr",
     "output_type": "stream",
     "text": [
      "\n",
      "INFO:cmdstanpy:CmdStan done processing.\n"
     ]
    },
    {
     "name": "stdout",
     "output_type": "stream",
     "text": [
      "\n"
     ]
    }
   ],
   "source": [
    "model_ppc=CmdStanModel(stan_file='height_2a_pcc.stan')\n",
    "R = 1000\n",
    "sim=model_ppc.sample(data=data_sim,\n",
    "                     iter_sampling=R, \n",
    "                     iter_warmup=0, \n",
    "                     chains=1, \n",
    "                     refresh=R,\n",
    "                     fixed_param=True,\n",
    "                     seed=29042020)"
   ]
  },
  {
   "cell_type": "code",
   "execution_count": 29,
   "metadata": {},
   "outputs": [
    {
     "data": {
      "text/html": [
       "<div>\n",
       "<style scoped>\n",
       "    .dataframe tbody tr th:only-of-type {\n",
       "        vertical-align: middle;\n",
       "    }\n",
       "\n",
       "    .dataframe tbody tr th {\n",
       "        vertical-align: top;\n",
       "    }\n",
       "\n",
       "    .dataframe thead th {\n",
       "        text-align: right;\n",
       "    }\n",
       "</style>\n",
       "<table border=\"1\" class=\"dataframe\">\n",
       "  <thead>\n",
       "    <tr style=\"text-align: right;\">\n",
       "      <th></th>\n",
       "      <th>lp__</th>\n",
       "      <th>accept_stat__</th>\n",
       "      <th>alpha</th>\n",
       "      <th>beta</th>\n",
       "      <th>sigma</th>\n",
       "      <th>height[1]</th>\n",
       "      <th>height[2]</th>\n",
       "      <th>height[3]</th>\n",
       "      <th>height[4]</th>\n",
       "      <th>height[5]</th>\n",
       "      <th>...</th>\n",
       "      <th>height[41]</th>\n",
       "      <th>height[42]</th>\n",
       "      <th>height[43]</th>\n",
       "      <th>height[44]</th>\n",
       "      <th>height[45]</th>\n",
       "      <th>height[46]</th>\n",
       "      <th>height[47]</th>\n",
       "      <th>height[48]</th>\n",
       "      <th>height[49]</th>\n",
       "      <th>height[50]</th>\n",
       "    </tr>\n",
       "  </thead>\n",
       "  <tbody>\n",
       "    <tr>\n",
       "      <th>0</th>\n",
       "      <td>0.0</td>\n",
       "      <td>0.0</td>\n",
       "      <td>192.082</td>\n",
       "      <td>0.777181</td>\n",
       "      <td>13.7277</td>\n",
       "      <td>183.0150</td>\n",
       "      <td>162.696</td>\n",
       "      <td>185.656</td>\n",
       "      <td>199.239</td>\n",
       "      <td>214.387</td>\n",
       "      <td>...</td>\n",
       "      <td>217.478</td>\n",
       "      <td>227.869</td>\n",
       "      <td>223.661</td>\n",
       "      <td>206.603</td>\n",
       "      <td>184.562</td>\n",
       "      <td>196.655</td>\n",
       "      <td>200.818</td>\n",
       "      <td>215.545</td>\n",
       "      <td>209.483</td>\n",
       "      <td>214.908</td>\n",
       "    </tr>\n",
       "    <tr>\n",
       "      <th>1</th>\n",
       "      <td>0.0</td>\n",
       "      <td>0.0</td>\n",
       "      <td>153.011</td>\n",
       "      <td>-0.006780</td>\n",
       "      <td>14.9963</td>\n",
       "      <td>171.3240</td>\n",
       "      <td>164.491</td>\n",
       "      <td>164.189</td>\n",
       "      <td>170.759</td>\n",
       "      <td>171.281</td>\n",
       "      <td>...</td>\n",
       "      <td>193.014</td>\n",
       "      <td>152.558</td>\n",
       "      <td>139.421</td>\n",
       "      <td>150.564</td>\n",
       "      <td>138.625</td>\n",
       "      <td>160.637</td>\n",
       "      <td>137.288</td>\n",
       "      <td>151.401</td>\n",
       "      <td>172.455</td>\n",
       "      <td>151.751</td>\n",
       "    </tr>\n",
       "    <tr>\n",
       "      <th>2</th>\n",
       "      <td>0.0</td>\n",
       "      <td>0.0</td>\n",
       "      <td>160.730</td>\n",
       "      <td>-1.138640</td>\n",
       "      <td>13.7781</td>\n",
       "      <td>196.0960</td>\n",
       "      <td>173.244</td>\n",
       "      <td>172.887</td>\n",
       "      <td>182.692</td>\n",
       "      <td>179.040</td>\n",
       "      <td>...</td>\n",
       "      <td>171.003</td>\n",
       "      <td>127.904</td>\n",
       "      <td>166.276</td>\n",
       "      <td>149.315</td>\n",
       "      <td>170.922</td>\n",
       "      <td>143.336</td>\n",
       "      <td>156.167</td>\n",
       "      <td>147.903</td>\n",
       "      <td>140.425</td>\n",
       "      <td>143.174</td>\n",
       "    </tr>\n",
       "    <tr>\n",
       "      <th>3</th>\n",
       "      <td>0.0</td>\n",
       "      <td>0.0</td>\n",
       "      <td>155.179</td>\n",
       "      <td>-0.254452</td>\n",
       "      <td>14.4921</td>\n",
       "      <td>177.9810</td>\n",
       "      <td>148.993</td>\n",
       "      <td>155.232</td>\n",
       "      <td>144.407</td>\n",
       "      <td>154.860</td>\n",
       "      <td>...</td>\n",
       "      <td>160.185</td>\n",
       "      <td>154.169</td>\n",
       "      <td>157.436</td>\n",
       "      <td>172.388</td>\n",
       "      <td>145.054</td>\n",
       "      <td>144.315</td>\n",
       "      <td>164.032</td>\n",
       "      <td>143.990</td>\n",
       "      <td>156.643</td>\n",
       "      <td>145.433</td>\n",
       "    </tr>\n",
       "    <tr>\n",
       "      <th>4</th>\n",
       "      <td>0.0</td>\n",
       "      <td>0.0</td>\n",
       "      <td>155.066</td>\n",
       "      <td>1.671020</td>\n",
       "      <td>14.2973</td>\n",
       "      <td>94.4861</td>\n",
       "      <td>124.439</td>\n",
       "      <td>122.776</td>\n",
       "      <td>124.009</td>\n",
       "      <td>154.668</td>\n",
       "      <td>...</td>\n",
       "      <td>197.827</td>\n",
       "      <td>195.181</td>\n",
       "      <td>167.079</td>\n",
       "      <td>181.168</td>\n",
       "      <td>177.738</td>\n",
       "      <td>174.348</td>\n",
       "      <td>174.287</td>\n",
       "      <td>193.807</td>\n",
       "      <td>192.285</td>\n",
       "      <td>173.512</td>\n",
       "    </tr>\n",
       "    <tr>\n",
       "      <th>...</th>\n",
       "      <td>...</td>\n",
       "      <td>...</td>\n",
       "      <td>...</td>\n",
       "      <td>...</td>\n",
       "      <td>...</td>\n",
       "      <td>...</td>\n",
       "      <td>...</td>\n",
       "      <td>...</td>\n",
       "      <td>...</td>\n",
       "      <td>...</td>\n",
       "      <td>...</td>\n",
       "      <td>...</td>\n",
       "      <td>...</td>\n",
       "      <td>...</td>\n",
       "      <td>...</td>\n",
       "      <td>...</td>\n",
       "      <td>...</td>\n",
       "      <td>...</td>\n",
       "      <td>...</td>\n",
       "      <td>...</td>\n",
       "      <td>...</td>\n",
       "    </tr>\n",
       "    <tr>\n",
       "      <th>995</th>\n",
       "      <td>0.0</td>\n",
       "      <td>0.0</td>\n",
       "      <td>156.877</td>\n",
       "      <td>1.261300</td>\n",
       "      <td>14.3942</td>\n",
       "      <td>153.5200</td>\n",
       "      <td>117.168</td>\n",
       "      <td>142.414</td>\n",
       "      <td>142.226</td>\n",
       "      <td>145.884</td>\n",
       "      <td>...</td>\n",
       "      <td>180.774</td>\n",
       "      <td>138.111</td>\n",
       "      <td>186.374</td>\n",
       "      <td>170.058</td>\n",
       "      <td>213.814</td>\n",
       "      <td>172.483</td>\n",
       "      <td>176.829</td>\n",
       "      <td>208.716</td>\n",
       "      <td>172.685</td>\n",
       "      <td>165.067</td>\n",
       "    </tr>\n",
       "    <tr>\n",
       "      <th>996</th>\n",
       "      <td>0.0</td>\n",
       "      <td>0.0</td>\n",
       "      <td>174.181</td>\n",
       "      <td>1.223380</td>\n",
       "      <td>15.6785</td>\n",
       "      <td>167.6620</td>\n",
       "      <td>167.721</td>\n",
       "      <td>152.202</td>\n",
       "      <td>162.443</td>\n",
       "      <td>139.058</td>\n",
       "      <td>...</td>\n",
       "      <td>181.666</td>\n",
       "      <td>198.622</td>\n",
       "      <td>198.811</td>\n",
       "      <td>164.591</td>\n",
       "      <td>206.307</td>\n",
       "      <td>186.331</td>\n",
       "      <td>161.756</td>\n",
       "      <td>215.658</td>\n",
       "      <td>190.260</td>\n",
       "      <td>193.231</td>\n",
       "    </tr>\n",
       "    <tr>\n",
       "      <th>997</th>\n",
       "      <td>0.0</td>\n",
       "      <td>0.0</td>\n",
       "      <td>162.396</td>\n",
       "      <td>-0.272051</td>\n",
       "      <td>12.2000</td>\n",
       "      <td>160.2400</td>\n",
       "      <td>181.275</td>\n",
       "      <td>175.545</td>\n",
       "      <td>166.926</td>\n",
       "      <td>169.176</td>\n",
       "      <td>...</td>\n",
       "      <td>151.092</td>\n",
       "      <td>153.667</td>\n",
       "      <td>166.036</td>\n",
       "      <td>136.593</td>\n",
       "      <td>159.795</td>\n",
       "      <td>168.294</td>\n",
       "      <td>144.172</td>\n",
       "      <td>161.412</td>\n",
       "      <td>148.015</td>\n",
       "      <td>151.573</td>\n",
       "    </tr>\n",
       "    <tr>\n",
       "      <th>998</th>\n",
       "      <td>0.0</td>\n",
       "      <td>0.0</td>\n",
       "      <td>139.058</td>\n",
       "      <td>0.987160</td>\n",
       "      <td>13.7746</td>\n",
       "      <td>137.6250</td>\n",
       "      <td>129.272</td>\n",
       "      <td>124.074</td>\n",
       "      <td>134.883</td>\n",
       "      <td>145.390</td>\n",
       "      <td>...</td>\n",
       "      <td>147.033</td>\n",
       "      <td>148.879</td>\n",
       "      <td>126.317</td>\n",
       "      <td>141.220</td>\n",
       "      <td>168.918</td>\n",
       "      <td>151.268</td>\n",
       "      <td>170.795</td>\n",
       "      <td>140.654</td>\n",
       "      <td>137.202</td>\n",
       "      <td>159.794</td>\n",
       "    </tr>\n",
       "    <tr>\n",
       "      <th>999</th>\n",
       "      <td>0.0</td>\n",
       "      <td>0.0</td>\n",
       "      <td>177.805</td>\n",
       "      <td>-0.514661</td>\n",
       "      <td>14.1887</td>\n",
       "      <td>179.5700</td>\n",
       "      <td>173.603</td>\n",
       "      <td>195.274</td>\n",
       "      <td>197.149</td>\n",
       "      <td>166.569</td>\n",
       "      <td>...</td>\n",
       "      <td>161.405</td>\n",
       "      <td>179.567</td>\n",
       "      <td>175.859</td>\n",
       "      <td>171.982</td>\n",
       "      <td>188.651</td>\n",
       "      <td>170.994</td>\n",
       "      <td>178.232</td>\n",
       "      <td>184.373</td>\n",
       "      <td>168.706</td>\n",
       "      <td>203.941</td>\n",
       "    </tr>\n",
       "  </tbody>\n",
       "</table>\n",
       "<p>1000 rows × 55 columns</p>\n",
       "</div>"
      ],
      "text/plain": [
       "     lp__  accept_stat__    alpha      beta    sigma  height[1]  height[2]  \\\n",
       "0     0.0            0.0  192.082  0.777181  13.7277   183.0150    162.696   \n",
       "1     0.0            0.0  153.011 -0.006780  14.9963   171.3240    164.491   \n",
       "2     0.0            0.0  160.730 -1.138640  13.7781   196.0960    173.244   \n",
       "3     0.0            0.0  155.179 -0.254452  14.4921   177.9810    148.993   \n",
       "4     0.0            0.0  155.066  1.671020  14.2973    94.4861    124.439   \n",
       "..    ...            ...      ...       ...      ...        ...        ...   \n",
       "995   0.0            0.0  156.877  1.261300  14.3942   153.5200    117.168   \n",
       "996   0.0            0.0  174.181  1.223380  15.6785   167.6620    167.721   \n",
       "997   0.0            0.0  162.396 -0.272051  12.2000   160.2400    181.275   \n",
       "998   0.0            0.0  139.058  0.987160  13.7746   137.6250    129.272   \n",
       "999   0.0            0.0  177.805 -0.514661  14.1887   179.5700    173.603   \n",
       "\n",
       "     height[3]  height[4]  height[5]  ...  height[41]  height[42]  height[43]  \\\n",
       "0      185.656    199.239    214.387  ...     217.478     227.869     223.661   \n",
       "1      164.189    170.759    171.281  ...     193.014     152.558     139.421   \n",
       "2      172.887    182.692    179.040  ...     171.003     127.904     166.276   \n",
       "3      155.232    144.407    154.860  ...     160.185     154.169     157.436   \n",
       "4      122.776    124.009    154.668  ...     197.827     195.181     167.079   \n",
       "..         ...        ...        ...  ...         ...         ...         ...   \n",
       "995    142.414    142.226    145.884  ...     180.774     138.111     186.374   \n",
       "996    152.202    162.443    139.058  ...     181.666     198.622     198.811   \n",
       "997    175.545    166.926    169.176  ...     151.092     153.667     166.036   \n",
       "998    124.074    134.883    145.390  ...     147.033     148.879     126.317   \n",
       "999    195.274    197.149    166.569  ...     161.405     179.567     175.859   \n",
       "\n",
       "     height[44]  height[45]  height[46]  height[47]  height[48]  height[49]  \\\n",
       "0       206.603     184.562     196.655     200.818     215.545     209.483   \n",
       "1       150.564     138.625     160.637     137.288     151.401     172.455   \n",
       "2       149.315     170.922     143.336     156.167     147.903     140.425   \n",
       "3       172.388     145.054     144.315     164.032     143.990     156.643   \n",
       "4       181.168     177.738     174.348     174.287     193.807     192.285   \n",
       "..          ...         ...         ...         ...         ...         ...   \n",
       "995     170.058     213.814     172.483     176.829     208.716     172.685   \n",
       "996     164.591     206.307     186.331     161.756     215.658     190.260   \n",
       "997     136.593     159.795     168.294     144.172     161.412     148.015   \n",
       "998     141.220     168.918     151.268     170.795     140.654     137.202   \n",
       "999     171.982     188.651     170.994     178.232     184.373     168.706   \n",
       "\n",
       "     height[50]  \n",
       "0       214.908  \n",
       "1       151.751  \n",
       "2       143.174  \n",
       "3       145.433  \n",
       "4       173.512  \n",
       "..          ...  \n",
       "995     165.067  \n",
       "996     193.231  \n",
       "997     151.573  \n",
       "998     159.794  \n",
       "999     203.941  \n",
       "\n",
       "[1000 rows x 55 columns]"
      ]
     },
     "execution_count": 29,
     "metadata": {},
     "output_type": "execute_result"
    }
   ],
   "source": [
    "df4 = sim.draws_pd()\n",
    "df4"
   ]
  },
  {
   "cell_type": "code",
   "execution_count": 32,
   "metadata": {},
   "outputs": [
    {
     "data": {
      "image/png": "[encoded data removed]",
      "text/plain": [
       "<Figure size 432x288 with 1 Axes>"
      ]
     },
     "metadata": {
      "needs_background": "light"
     },
     "output_type": "display_data"
    }
   ],
   "source": [
    "max_=[]\n",
    "min_=[]\n",
    "for i in range(1,44):\n",
    "    name = \"height[{a}]\".format(a=i)\n",
    "    max_.append(df4[name].max())\n",
    "    min_.append(df4[name].min())\n",
    "\n",
    "plt.plot(max_, label='MAX Height')\n",
    "plt.plot(min_, label='MIN Height')\n",
    "plt.plot([251] * len(max_), label='Tallest person', color='red')\n",
    "plt.plot([63] * len(min_), label='Shortest person', color='green')\n",
    "plt.legend()\n",
    "plt.show()\n",
    "    "
   ]
  },
  {
   "attachments": {},
   "cell_type": "markdown",
   "metadata": {},
   "source": [
    "Plot lines for each sampled slope beta and intercept alpha, verify if possible predicted heights are consistent with minimum (0) and maximum (check Wikipedia) heights observed in nature."
   ]
  },
  {
   "attachments": {},
   "cell_type": "markdown",
   "metadata": {},
   "source": [
    "## Task 5. Modifying prior\n",
    "\n",
    "If prior for beta admits negative values, then it makes no sense. Lets change prior to lognormal distribution.\n"
   ]
  },
  {
   "cell_type": "code",
   "execution_count": 33,
   "metadata": {},
   "outputs": [
    {
     "name": "stderr",
     "output_type": "stream",
     "text": [
      "INFO:cmdstanpy:compiling stan file /home/lab4/height_2b_pcc.stan to exe file /home/lab4/height_2b_pcc\n",
      "INFO:cmdstanpy:compiled model executable: /home/lab4/height_2b_pcc\n"
     ]
    }
   ],
   "source": [
    "model_ppc=CmdStanModel(stan_file='height_2b_pcc.stan')"
   ]
  },
  {
   "cell_type": "code",
   "execution_count": 34,
   "metadata": {},
   "outputs": [
    {
     "name": "stderr",
     "output_type": "stream",
     "text": [
      "INFO:cmdstanpy:CmdStan start processing\n",
      "chain 1 |\u001b[34m██████████\u001b[0m| 00:00 Sampling completed"
     ]
    },
    {
     "name": "stdout",
     "output_type": "stream",
     "text": [
      "                                                                                "
     ]
    },
    {
     "name": "stderr",
     "output_type": "stream",
     "text": [
      "\n",
      "INFO:cmdstanpy:CmdStan done processing.\n"
     ]
    },
    {
     "name": "stdout",
     "output_type": "stream",
     "text": [
      "\n"
     ]
    }
   ],
   "source": [
    "sim=model_ppc.sample(data=data_sim, \n",
    "                     iter_sampling=R, \n",
    "                     iter_warmup=0, \n",
    "                     chains=1, \n",
    "                     refresh=R,\n",
    "                     fixed_param=True,\n",
    "                     seed=29042020)"
   ]
  },
  {
   "cell_type": "code",
   "execution_count": 35,
   "metadata": {},
   "outputs": [
    {
     "data": {
      "text/html": [
       "<div>\n",
       "<style scoped>\n",
       "    .dataframe tbody tr th:only-of-type {\n",
       "        vertical-align: middle;\n",
       "    }\n",
       "\n",
       "    .dataframe tbody tr th {\n",
       "        vertical-align: top;\n",
       "    }\n",
       "\n",
       "    .dataframe thead th {\n",
       "        text-align: right;\n",
       "    }\n",
       "</style>\n",
       "<table border=\"1\" class=\"dataframe\">\n",
       "  <thead>\n",
       "    <tr style=\"text-align: right;\">\n",
       "      <th></th>\n",
       "      <th>lp__</th>\n",
       "      <th>accept_stat__</th>\n",
       "      <th>alpha</th>\n",
       "      <th>beta</th>\n",
       "      <th>sigma</th>\n",
       "      <th>height[1]</th>\n",
       "      <th>height[2]</th>\n",
       "      <th>height[3]</th>\n",
       "      <th>height[4]</th>\n",
       "      <th>height[5]</th>\n",
       "      <th>...</th>\n",
       "      <th>height[41]</th>\n",
       "      <th>height[42]</th>\n",
       "      <th>height[43]</th>\n",
       "      <th>height[44]</th>\n",
       "      <th>height[45]</th>\n",
       "      <th>height[46]</th>\n",
       "      <th>height[47]</th>\n",
       "      <th>height[48]</th>\n",
       "      <th>height[49]</th>\n",
       "      <th>height[50]</th>\n",
       "    </tr>\n",
       "  </thead>\n",
       "  <tbody>\n",
       "    <tr>\n",
       "      <th>0</th>\n",
       "      <td>0.0</td>\n",
       "      <td>0.0</td>\n",
       "      <td>192.082</td>\n",
       "      <td>2.175330</td>\n",
       "      <td>13.7277</td>\n",
       "      <td>163.5540</td>\n",
       "      <td>144.1460</td>\n",
       "      <td>168.0160</td>\n",
       "      <td>182.5100</td>\n",
       "      <td>198.569</td>\n",
       "      <td>...</td>\n",
       "      <td>234.450</td>\n",
       "      <td>245.752</td>\n",
       "      <td>242.455</td>\n",
       "      <td>226.307</td>\n",
       "      <td>205.177</td>\n",
       "      <td>218.181</td>\n",
       "      <td>223.255</td>\n",
       "      <td>238.893</td>\n",
       "      <td>233.742</td>\n",
       "      <td>240.078</td>\n",
       "    </tr>\n",
       "    <tr>\n",
       "      <th>1</th>\n",
       "      <td>0.0</td>\n",
       "      <td>0.0</td>\n",
       "      <td>153.011</td>\n",
       "      <td>0.993243</td>\n",
       "      <td>14.9963</td>\n",
       "      <td>157.4040</td>\n",
       "      <td>151.2230</td>\n",
       "      <td>151.5720</td>\n",
       "      <td>158.7940</td>\n",
       "      <td>159.967</td>\n",
       "      <td>...</td>\n",
       "      <td>205.153</td>\n",
       "      <td>165.349</td>\n",
       "      <td>152.863</td>\n",
       "      <td>164.657</td>\n",
       "      <td>153.370</td>\n",
       "      <td>176.034</td>\n",
       "      <td>153.336</td>\n",
       "      <td>168.101</td>\n",
       "      <td>189.806</td>\n",
       "      <td>169.753</td>\n",
       "    </tr>\n",
       "    <tr>\n",
       "      <th>2</th>\n",
       "      <td>0.0</td>\n",
       "      <td>0.0</td>\n",
       "      <td>160.730</td>\n",
       "      <td>0.320255</td>\n",
       "      <td>13.7781</td>\n",
       "      <td>175.7890</td>\n",
       "      <td>153.8880</td>\n",
       "      <td>154.4810</td>\n",
       "      <td>165.2360</td>\n",
       "      <td>162.535</td>\n",
       "      <td>...</td>\n",
       "      <td>188.713</td>\n",
       "      <td>146.564</td>\n",
       "      <td>185.886</td>\n",
       "      <td>169.876</td>\n",
       "      <td>192.433</td>\n",
       "      <td>165.798</td>\n",
       "      <td>179.579</td>\n",
       "      <td>172.265</td>\n",
       "      <td>165.738</td>\n",
       "      <td>169.437</td>\n",
       "    </tr>\n",
       "    <tr>\n",
       "      <th>3</th>\n",
       "      <td>0.0</td>\n",
       "      <td>0.0</td>\n",
       "      <td>155.179</td>\n",
       "      <td>0.775342</td>\n",
       "      <td>14.4921</td>\n",
       "      <td>163.6470</td>\n",
       "      <td>135.3300</td>\n",
       "      <td>142.2400</td>\n",
       "      <td>132.0850</td>\n",
       "      <td>143.209</td>\n",
       "      <td>...</td>\n",
       "      <td>172.685</td>\n",
       "      <td>167.340</td>\n",
       "      <td>171.279</td>\n",
       "      <td>186.901</td>\n",
       "      <td>160.238</td>\n",
       "      <td>160.170</td>\n",
       "      <td>180.558</td>\n",
       "      <td>161.187</td>\n",
       "      <td>174.510</td>\n",
       "      <td>163.972</td>\n",
       "    </tr>\n",
       "    <tr>\n",
       "      <th>4</th>\n",
       "      <td>0.0</td>\n",
       "      <td>0.0</td>\n",
       "      <td>155.066</td>\n",
       "      <td>5.317560</td>\n",
       "      <td>14.2973</td>\n",
       "      <td>43.7283</td>\n",
       "      <td>76.0566</td>\n",
       "      <td>76.7689</td>\n",
       "      <td>80.3774</td>\n",
       "      <td>113.412</td>\n",
       "      <td>...</td>\n",
       "      <td>242.092</td>\n",
       "      <td>241.821</td>\n",
       "      <td>216.095</td>\n",
       "      <td>232.560</td>\n",
       "      <td>231.506</td>\n",
       "      <td>230.491</td>\n",
       "      <td>232.806</td>\n",
       "      <td>254.701</td>\n",
       "      <td>255.555</td>\n",
       "      <td>239.158</td>\n",
       "    </tr>\n",
       "    <tr>\n",
       "      <th>...</th>\n",
       "      <td>...</td>\n",
       "      <td>...</td>\n",
       "      <td>...</td>\n",
       "      <td>...</td>\n",
       "      <td>...</td>\n",
       "      <td>...</td>\n",
       "      <td>...</td>\n",
       "      <td>...</td>\n",
       "      <td>...</td>\n",
       "      <td>...</td>\n",
       "      <td>...</td>\n",
       "      <td>...</td>\n",
       "      <td>...</td>\n",
       "      <td>...</td>\n",
       "      <td>...</td>\n",
       "      <td>...</td>\n",
       "      <td>...</td>\n",
       "      <td>...</td>\n",
       "      <td>...</td>\n",
       "      <td>...</td>\n",
       "      <td>...</td>\n",
       "    </tr>\n",
       "    <tr>\n",
       "      <th>995</th>\n",
       "      <td>0.0</td>\n",
       "      <td>0.0</td>\n",
       "      <td>156.877</td>\n",
       "      <td>3.529990</td>\n",
       "      <td>14.3942</td>\n",
       "      <td>121.9410</td>\n",
       "      <td>87.0673</td>\n",
       "      <td>113.7910</td>\n",
       "      <td>115.0810</td>\n",
       "      <td>120.217</td>\n",
       "      <td>...</td>\n",
       "      <td>208.313</td>\n",
       "      <td>167.129</td>\n",
       "      <td>216.870</td>\n",
       "      <td>202.032</td>\n",
       "      <td>247.266</td>\n",
       "      <td>207.412</td>\n",
       "      <td>213.236</td>\n",
       "      <td>246.602</td>\n",
       "      <td>212.048</td>\n",
       "      <td>205.908</td>\n",
       "    </tr>\n",
       "    <tr>\n",
       "      <th>996</th>\n",
       "      <td>0.0</td>\n",
       "      <td>0.0</td>\n",
       "      <td>174.181</td>\n",
       "      <td>3.398650</td>\n",
       "      <td>15.6785</td>\n",
       "      <td>137.3840</td>\n",
       "      <td>138.8600</td>\n",
       "      <td>124.7580</td>\n",
       "      <td>136.4160</td>\n",
       "      <td>114.448</td>\n",
       "      <td>...</td>\n",
       "      <td>208.072</td>\n",
       "      <td>226.445</td>\n",
       "      <td>228.050</td>\n",
       "      <td>195.248</td>\n",
       "      <td>238.381</td>\n",
       "      <td>219.822</td>\n",
       "      <td>196.664</td>\n",
       "      <td>251.983</td>\n",
       "      <td>228.003</td>\n",
       "      <td>232.390</td>\n",
       "    </tr>\n",
       "    <tr>\n",
       "      <th>997</th>\n",
       "      <td>0.0</td>\n",
       "      <td>0.0</td>\n",
       "      <td>162.396</td>\n",
       "      <td>0.761815</td>\n",
       "      <td>12.2000</td>\n",
       "      <td>145.8490</td>\n",
       "      <td>167.5580</td>\n",
       "      <td>162.5010</td>\n",
       "      <td>154.5560</td>\n",
       "      <td>157.480</td>\n",
       "      <td>...</td>\n",
       "      <td>163.642</td>\n",
       "      <td>166.891</td>\n",
       "      <td>179.933</td>\n",
       "      <td>151.164</td>\n",
       "      <td>175.039</td>\n",
       "      <td>184.212</td>\n",
       "      <td>160.763</td>\n",
       "      <td>178.677</td>\n",
       "      <td>165.953</td>\n",
       "      <td>170.185</td>\n",
       "    </tr>\n",
       "    <tr>\n",
       "      <th>998</th>\n",
       "      <td>0.0</td>\n",
       "      <td>0.0</td>\n",
       "      <td>139.058</td>\n",
       "      <td>2.683600</td>\n",
       "      <td>13.7746</td>\n",
       "      <td>114.0120</td>\n",
       "      <td>106.7640</td>\n",
       "      <td>102.6700</td>\n",
       "      <td>114.5850</td>\n",
       "      <td>126.198</td>\n",
       "      <td>...</td>\n",
       "      <td>167.626</td>\n",
       "      <td>170.578</td>\n",
       "      <td>149.120</td>\n",
       "      <td>165.129</td>\n",
       "      <td>193.932</td>\n",
       "      <td>177.387</td>\n",
       "      <td>198.019</td>\n",
       "      <td>168.983</td>\n",
       "      <td>166.636</td>\n",
       "      <td>190.334</td>\n",
       "    </tr>\n",
       "    <tr>\n",
       "      <th>999</th>\n",
       "      <td>0.0</td>\n",
       "      <td>0.0</td>\n",
       "      <td>177.805</td>\n",
       "      <td>0.597703</td>\n",
       "      <td>14.1887</td>\n",
       "      <td>164.0860</td>\n",
       "      <td>158.8450</td>\n",
       "      <td>181.2400</td>\n",
       "      <td>183.8390</td>\n",
       "      <td>153.984</td>\n",
       "      <td>...</td>\n",
       "      <td>174.908</td>\n",
       "      <td>193.795</td>\n",
       "      <td>190.812</td>\n",
       "      <td>187.659</td>\n",
       "      <td>205.052</td>\n",
       "      <td>188.120</td>\n",
       "      <td>196.083</td>\n",
       "      <td>202.949</td>\n",
       "      <td>188.007</td>\n",
       "      <td>223.966</td>\n",
       "    </tr>\n",
       "  </tbody>\n",
       "</table>\n",
       "<p>1000 rows × 55 columns</p>\n",
       "</div>"
      ],
      "text/plain": [
       "     lp__  accept_stat__    alpha      beta    sigma  height[1]  height[2]  \\\n",
       "0     0.0            0.0  192.082  2.175330  13.7277   163.5540   144.1460   \n",
       "1     0.0            0.0  153.011  0.993243  14.9963   157.4040   151.2230   \n",
       "2     0.0            0.0  160.730  0.320255  13.7781   175.7890   153.8880   \n",
       "3     0.0            0.0  155.179  0.775342  14.4921   163.6470   135.3300   \n",
       "4     0.0            0.0  155.066  5.317560  14.2973    43.7283    76.0566   \n",
       "..    ...            ...      ...       ...      ...        ...        ...   \n",
       "995   0.0            0.0  156.877  3.529990  14.3942   121.9410    87.0673   \n",
       "996   0.0            0.0  174.181  3.398650  15.6785   137.3840   138.8600   \n",
       "997   0.0            0.0  162.396  0.761815  12.2000   145.8490   167.5580   \n",
       "998   0.0            0.0  139.058  2.683600  13.7746   114.0120   106.7640   \n",
       "999   0.0            0.0  177.805  0.597703  14.1887   164.0860   158.8450   \n",
       "\n",
       "     height[3]  height[4]  height[5]  ...  height[41]  height[42]  height[43]  \\\n",
       "0     168.0160   182.5100    198.569  ...     234.450     245.752     242.455   \n",
       "1     151.5720   158.7940    159.967  ...     205.153     165.349     152.863   \n",
       "2     154.4810   165.2360    162.535  ...     188.713     146.564     185.886   \n",
       "3     142.2400   132.0850    143.209  ...     172.685     167.340     171.279   \n",
       "4      76.7689    80.3774    113.412  ...     242.092     241.821     216.095   \n",
       "..         ...        ...        ...  ...         ...         ...         ...   \n",
       "995   113.7910   115.0810    120.217  ...     208.313     167.129     216.870   \n",
       "996   124.7580   136.4160    114.448  ...     208.072     226.445     228.050   \n",
       "997   162.5010   154.5560    157.480  ...     163.642     166.891     179.933   \n",
       "998   102.6700   114.5850    126.198  ...     167.626     170.578     149.120   \n",
       "999   181.2400   183.8390    153.984  ...     174.908     193.795     190.812   \n",
       "\n",
       "     height[44]  height[45]  height[46]  height[47]  height[48]  height[49]  \\\n",
       "0       226.307     205.177     218.181     223.255     238.893     233.742   \n",
       "1       164.657     153.370     176.034     153.336     168.101     189.806   \n",
       "2       169.876     192.433     165.798     179.579     172.265     165.738   \n",
       "3       186.901     160.238     160.170     180.558     161.187     174.510   \n",
       "4       232.560     231.506     230.491     232.806     254.701     255.555   \n",
       "..          ...         ...         ...         ...         ...         ...   \n",
       "995     202.032     247.266     207.412     213.236     246.602     212.048   \n",
       "996     195.248     238.381     219.822     196.664     251.983     228.003   \n",
       "997     151.164     175.039     184.212     160.763     178.677     165.953   \n",
       "998     165.129     193.932     177.387     198.019     168.983     166.636   \n",
       "999     187.659     205.052     188.120     196.083     202.949     188.007   \n",
       "\n",
       "     height[50]  \n",
       "0       240.078  \n",
       "1       169.753  \n",
       "2       169.437  \n",
       "3       163.972  \n",
       "4       239.158  \n",
       "..          ...  \n",
       "995     205.908  \n",
       "996     232.390  \n",
       "997     170.185  \n",
       "998     190.334  \n",
       "999     223.966  \n",
       "\n",
       "[1000 rows x 55 columns]"
      ]
     },
     "execution_count": 35,
     "metadata": {},
     "output_type": "execute_result"
    }
   ],
   "source": [
    "df5 = sim.draws_pd()\n",
    "df5"
   ]
  },
  {
   "cell_type": "code",
   "execution_count": 38,
   "metadata": {},
   "outputs": [
    {
     "data": {
      "image/png": "[encoded data removed]",
      "text/plain": [
       "<Figure size 432x288 with 1 Axes>"
      ]
     },
     "metadata": {
      "needs_background": "light"
     },
     "output_type": "display_data"
    }
   ],
   "source": [
    "# 1.\n",
    "plt.plot(df5['alpha'])\n",
    "plt.title(\"alpha\")\n",
    "plt.show()"
   ]
  },
  {
   "cell_type": "code",
   "execution_count": 39,
   "metadata": {},
   "outputs": [
    {
     "data": {
      "image/png": "[encoded data removed]",
      "text/plain": [
       "<Figure size 432x288 with 1 Axes>"
      ]
     },
     "metadata": {
      "needs_background": "light"
     },
     "output_type": "display_data"
    }
   ],
   "source": [
    "# 1.\n",
    "plt.plot(df5['beta'])\n",
    "plt.title(\"beta\")\n",
    "plt.show()"
   ]
  },
  {
   "cell_type": "code",
   "execution_count": 36,
   "metadata": {},
   "outputs": [
    {
     "data": {
      "image/png": "[encoded data removed]",
      "text/plain": [
       "<Figure size 432x288 with 1 Axes>"
      ]
     },
     "metadata": {
      "needs_background": "light"
     },
     "output_type": "display_data"
    }
   ],
   "source": [
    "#1\n",
    "max_=[]\n",
    "min_=[]\n",
    "for i in range(1,44):\n",
    "    name = \"height[{a}]\".format(a=i)\n",
    "    max_.append(df5[name].max())\n",
    "    min_.append(df5[name].min())\n",
    "\n",
    "plt.plot(max_, label='MAX Height')\n",
    "plt.plot(min_, label='MIN Height')\n",
    "plt.plot([251] * len(max_), label='Tallest person', color='red')\n",
    "plt.plot([63] * len(min_), label='Shortest person', color='green')\n",
    "plt.legend()\n",
    "plt.show()"
   ]
  },
  {
   "attachments": {},
   "cell_type": "markdown",
   "metadata": {},
   "source": [
    "1. Plot lines for each sampled slope beta and intercept alpha, verify if possible predicted heights are consistent with minimum (0) and maximum (check Wikipedia) heights observed in nature.\n",
    "2. For each simulated weight plot maximum, minimum, and 5, 25, 50, 75, 95 quantiles of simulated weight (all in the same plot). Compare with observed data. Is observed data possible within the prior model?"
   ]
  },
  {
   "attachments": {},
   "cell_type": "markdown",
   "metadata": {},
   "source": [
    "## Task 6. Fitting and evaluating model\n"
   ]
  },
  {
   "cell_type": "code",
   "execution_count": 41,
   "metadata": {},
   "outputs": [
    {
     "name": "stderr",
     "output_type": "stream",
     "text": [
      "INFO:cmdstanpy:compiling stan file /home/lab4/height_2_fit.stan to exe file /home/lab4/height_2_fit\n",
      "INFO:cmdstanpy:compiled model executable: /home/lab4/height_2_fit\n"
     ]
    }
   ],
   "source": [
    "model_2_fit=CmdStanModel(stan_file='height_2_fit.stan')"
   ]
  },
  {
   "attachments": {},
   "cell_type": "markdown",
   "metadata": {},
   "source": [
    "1. Create ```data_fit``` dictionary containing data from  ```N``` first rows of dataframe\n"
   ]
  },
  {
   "cell_type": "code",
   "execution_count": 44,
   "metadata": {},
   "outputs": [
    {
     "name": "stderr",
     "output_type": "stream",
     "text": [
      "INFO:cmdstanpy:CmdStan start processing\n",
      "chain 1 |\u001b[33m          \u001b[0m| 00:00 Status\n",
      "\u001b[A\n",
      "\n",
      "chain 1 |\u001b[33m██▎       \u001b[0m| 00:00 Iteration:  300 / 2000 [ 15%]  (Warmup)\n",
      "\u001b[A\n",
      "\n",
      "\u001b[A\u001b[A\n",
      "\u001b[A\n",
      "\n",
      "chain 1 |\u001b[34m█████▉    \u001b[0m| 00:00 Iteration: 1001 / 2000 [ 50%]  (Sampling)\n",
      "\u001b[A\n",
      "\n",
      "chain 1 |\u001b[34m████████▋ \u001b[0m| 00:00 Iteration: 1600 / 2000 [ 80%]  (Sampling)\n",
      "chain 1 |\u001b[34m██████████\u001b[0m| 00:00 Sampling completed                       \n",
      "chain 2 |\u001b[34m██████████\u001b[0m| 00:00 Sampling completed                       \n",
      "chain 3 |\u001b[34m██████████\u001b[0m| 00:00 Sampling completed                       \n",
      "chain 4 |\u001b[34m██████████\u001b[0m| 00:00 Sampling completed                       "
     ]
    },
    {
     "name": "stdout",
     "output_type": "stream",
     "text": [
      "                                                                                                                                                                                                                                                                                                                                "
     ]
    },
    {
     "name": "stderr",
     "output_type": "stream",
     "text": [
      "\n",
      "INFO:cmdstanpy:CmdStan done processing.\n"
     ]
    },
    {
     "name": "stdout",
     "output_type": "stream",
     "text": [
      "\n"
     ]
    }
   ],
   "source": [
    "N = 100\n",
    "data_fit = {'N': N, 'weights': d.weight.values[:N], 'heights': d.height.values[:N]}\n",
    "fit=model_2_fit.sample(data=data_fit,seed=28052020)\n"
   ]
  },
  {
   "attachments": {},
   "cell_type": "markdown",
   "metadata": {},
   "source": [
    "2. Plot lines for each sampled slope beta and intercept alpha. Verify how uncertainity changes with increasing of sample (N)\n",
    "2. For each value of weight plot mean simulated height along with errorbar of one standard deviation (use ```errorbar``` from matplotlib). Compare with observed data (N points). Is observed data possible within the posterior model? What changes when N increases.\n"
   ]
  },
  {
   "cell_type": "code",
   "execution_count": 45,
   "metadata": {},
   "outputs": [
    {
     "data": {
      "text/html": [
       "<div>\n",
       "<style scoped>\n",
       "    .dataframe tbody tr th:only-of-type {\n",
       "        vertical-align: middle;\n",
       "    }\n",
       "\n",
       "    .dataframe tbody tr th {\n",
       "        vertical-align: top;\n",
       "    }\n",
       "\n",
       "    .dataframe thead th {\n",
       "        text-align: right;\n",
       "    }\n",
       "</style>\n",
       "<table border=\"1\" class=\"dataframe\">\n",
       "  <thead>\n",
       "    <tr style=\"text-align: right;\">\n",
       "      <th></th>\n",
       "      <th>lp__</th>\n",
       "      <th>accept_stat__</th>\n",
       "      <th>stepsize__</th>\n",
       "      <th>treedepth__</th>\n",
       "      <th>n_leapfrog__</th>\n",
       "      <th>divergent__</th>\n",
       "      <th>energy__</th>\n",
       "      <th>alpha</th>\n",
       "      <th>sigma</th>\n",
       "      <th>beta</th>\n",
       "      <th>...</th>\n",
       "      <th>h_hat[91]</th>\n",
       "      <th>h_hat[92]</th>\n",
       "      <th>h_hat[93]</th>\n",
       "      <th>h_hat[94]</th>\n",
       "      <th>h_hat[95]</th>\n",
       "      <th>h_hat[96]</th>\n",
       "      <th>h_hat[97]</th>\n",
       "      <th>h_hat[98]</th>\n",
       "      <th>h_hat[99]</th>\n",
       "      <th>h_hat[100]</th>\n",
       "    </tr>\n",
       "  </thead>\n",
       "  <tbody>\n",
       "    <tr>\n",
       "      <th>0</th>\n",
       "      <td>-267.392</td>\n",
       "      <td>0.856483</td>\n",
       "      <td>0.133023</td>\n",
       "      <td>5.0</td>\n",
       "      <td>31.0</td>\n",
       "      <td>0.0</td>\n",
       "      <td>269.784</td>\n",
       "      <td>124.846</td>\n",
       "      <td>8.90091</td>\n",
       "      <td>0.667156</td>\n",
       "      <td>...</td>\n",
       "      <td>155.374</td>\n",
       "      <td>143.077</td>\n",
       "      <td>139.917</td>\n",
       "      <td>161.359</td>\n",
       "      <td>161.428</td>\n",
       "      <td>154.731</td>\n",
       "      <td>148.849</td>\n",
       "      <td>163.081</td>\n",
       "      <td>159.741</td>\n",
       "      <td>158.163</td>\n",
       "    </tr>\n",
       "    <tr>\n",
       "      <th>1</th>\n",
       "      <td>-268.740</td>\n",
       "      <td>0.981101</td>\n",
       "      <td>0.133023</td>\n",
       "      <td>3.0</td>\n",
       "      <td>15.0</td>\n",
       "      <td>0.0</td>\n",
       "      <td>269.417</td>\n",
       "      <td>121.915</td>\n",
       "      <td>9.97583</td>\n",
       "      <td>0.718784</td>\n",
       "      <td>...</td>\n",
       "      <td>153.167</td>\n",
       "      <td>156.946</td>\n",
       "      <td>143.039</td>\n",
       "      <td>164.745</td>\n",
       "      <td>160.010</td>\n",
       "      <td>165.853</td>\n",
       "      <td>139.592</td>\n",
       "      <td>145.802</td>\n",
       "      <td>171.879</td>\n",
       "      <td>142.481</td>\n",
       "    </tr>\n",
       "    <tr>\n",
       "      <th>2</th>\n",
       "      <td>-269.137</td>\n",
       "      <td>0.996772</td>\n",
       "      <td>0.133023</td>\n",
       "      <td>4.0</td>\n",
       "      <td>31.0</td>\n",
       "      <td>0.0</td>\n",
       "      <td>270.810</td>\n",
       "      <td>126.231</td>\n",
       "      <td>10.49870</td>\n",
       "      <td>0.623105</td>\n",
       "      <td>...</td>\n",
       "      <td>169.875</td>\n",
       "      <td>134.910</td>\n",
       "      <td>156.968</td>\n",
       "      <td>172.588</td>\n",
       "      <td>135.898</td>\n",
       "      <td>156.115</td>\n",
       "      <td>153.637</td>\n",
       "      <td>157.516</td>\n",
       "      <td>146.261</td>\n",
       "      <td>147.147</td>\n",
       "    </tr>\n",
       "    <tr>\n",
       "      <th>3</th>\n",
       "      <td>-267.621</td>\n",
       "      <td>0.998276</td>\n",
       "      <td>0.133023</td>\n",
       "      <td>4.0</td>\n",
       "      <td>15.0</td>\n",
       "      <td>0.0</td>\n",
       "      <td>269.494</td>\n",
       "      <td>123.794</td>\n",
       "      <td>9.31588</td>\n",
       "      <td>0.685893</td>\n",
       "      <td>...</td>\n",
       "      <td>153.835</td>\n",
       "      <td>148.918</td>\n",
       "      <td>166.737</td>\n",
       "      <td>151.126</td>\n",
       "      <td>158.593</td>\n",
       "      <td>158.905</td>\n",
       "      <td>153.905</td>\n",
       "      <td>164.055</td>\n",
       "      <td>157.937</td>\n",
       "      <td>148.605</td>\n",
       "    </tr>\n",
       "    <tr>\n",
       "      <th>4</th>\n",
       "      <td>-267.685</td>\n",
       "      <td>0.982877</td>\n",
       "      <td>0.133023</td>\n",
       "      <td>5.0</td>\n",
       "      <td>31.0</td>\n",
       "      <td>0.0</td>\n",
       "      <td>268.033</td>\n",
       "      <td>122.474</td>\n",
       "      <td>7.81962</td>\n",
       "      <td>0.709250</td>\n",
       "      <td>...</td>\n",
       "      <td>153.044</td>\n",
       "      <td>161.527</td>\n",
       "      <td>150.780</td>\n",
       "      <td>150.992</td>\n",
       "      <td>155.029</td>\n",
       "      <td>176.828</td>\n",
       "      <td>147.470</td>\n",
       "      <td>157.331</td>\n",
       "      <td>148.599</td>\n",
       "      <td>147.940</td>\n",
       "    </tr>\n",
       "    <tr>\n",
       "      <th>...</th>\n",
       "      <td>...</td>\n",
       "      <td>...</td>\n",
       "      <td>...</td>\n",
       "      <td>...</td>\n",
       "      <td>...</td>\n",
       "      <td>...</td>\n",
       "      <td>...</td>\n",
       "      <td>...</td>\n",
       "      <td>...</td>\n",
       "      <td>...</td>\n",
       "      <td>...</td>\n",
       "      <td>...</td>\n",
       "      <td>...</td>\n",
       "      <td>...</td>\n",
       "      <td>...</td>\n",
       "      <td>...</td>\n",
       "      <td>...</td>\n",
       "      <td>...</td>\n",
       "      <td>...</td>\n",
       "      <td>...</td>\n",
       "      <td>...</td>\n",
       "    </tr>\n",
       "    <tr>\n",
       "      <th>3995</th>\n",
       "      <td>-267.822</td>\n",
       "      <td>0.912076</td>\n",
       "      <td>0.125279</td>\n",
       "      <td>4.0</td>\n",
       "      <td>17.0</td>\n",
       "      <td>0.0</td>\n",
       "      <td>268.569</td>\n",
       "      <td>125.985</td>\n",
       "      <td>8.54950</td>\n",
       "      <td>0.612396</td>\n",
       "      <td>...</td>\n",
       "      <td>156.606</td>\n",
       "      <td>153.980</td>\n",
       "      <td>160.431</td>\n",
       "      <td>162.706</td>\n",
       "      <td>156.850</td>\n",
       "      <td>157.302</td>\n",
       "      <td>150.991</td>\n",
       "      <td>158.240</td>\n",
       "      <td>153.975</td>\n",
       "      <td>161.736</td>\n",
       "    </tr>\n",
       "    <tr>\n",
       "      <th>3996</th>\n",
       "      <td>-267.954</td>\n",
       "      <td>0.884447</td>\n",
       "      <td>0.125279</td>\n",
       "      <td>4.0</td>\n",
       "      <td>31.0</td>\n",
       "      <td>0.0</td>\n",
       "      <td>270.039</td>\n",
       "      <td>119.803</td>\n",
       "      <td>7.81566</td>\n",
       "      <td>0.758741</td>\n",
       "      <td>...</td>\n",
       "      <td>145.616</td>\n",
       "      <td>153.441</td>\n",
       "      <td>154.063</td>\n",
       "      <td>154.716</td>\n",
       "      <td>174.028</td>\n",
       "      <td>159.488</td>\n",
       "      <td>144.917</td>\n",
       "      <td>154.600</td>\n",
       "      <td>159.748</td>\n",
       "      <td>159.157</td>\n",
       "    </tr>\n",
       "    <tr>\n",
       "      <th>3997</th>\n",
       "      <td>-269.435</td>\n",
       "      <td>0.847055</td>\n",
       "      <td>0.125279</td>\n",
       "      <td>5.0</td>\n",
       "      <td>31.0</td>\n",
       "      <td>0.0</td>\n",
       "      <td>269.949</td>\n",
       "      <td>117.354</td>\n",
       "      <td>8.04239</td>\n",
       "      <td>0.845913</td>\n",
       "      <td>...</td>\n",
       "      <td>165.873</td>\n",
       "      <td>170.516</td>\n",
       "      <td>154.639</td>\n",
       "      <td>147.573</td>\n",
       "      <td>165.348</td>\n",
       "      <td>167.500</td>\n",
       "      <td>144.246</td>\n",
       "      <td>162.273</td>\n",
       "      <td>161.510</td>\n",
       "      <td>143.186</td>\n",
       "    </tr>\n",
       "    <tr>\n",
       "      <th>3998</th>\n",
       "      <td>-268.259</td>\n",
       "      <td>0.800145</td>\n",
       "      <td>0.125279</td>\n",
       "      <td>2.0</td>\n",
       "      <td>3.0</td>\n",
       "      <td>0.0</td>\n",
       "      <td>271.211</td>\n",
       "      <td>117.507</td>\n",
       "      <td>7.96826</td>\n",
       "      <td>0.809452</td>\n",
       "      <td>...</td>\n",
       "      <td>163.159</td>\n",
       "      <td>162.416</td>\n",
       "      <td>152.784</td>\n",
       "      <td>167.758</td>\n",
       "      <td>147.485</td>\n",
       "      <td>167.315</td>\n",
       "      <td>133.424</td>\n",
       "      <td>162.738</td>\n",
       "      <td>160.691</td>\n",
       "      <td>156.418</td>\n",
       "    </tr>\n",
       "    <tr>\n",
       "      <th>3999</th>\n",
       "      <td>-269.412</td>\n",
       "      <td>0.817882</td>\n",
       "      <td>0.125279</td>\n",
       "      <td>2.0</td>\n",
       "      <td>3.0</td>\n",
       "      <td>0.0</td>\n",
       "      <td>269.544</td>\n",
       "      <td>117.144</td>\n",
       "      <td>7.91829</td>\n",
       "      <td>0.797505</td>\n",
       "      <td>...</td>\n",
       "      <td>164.493</td>\n",
       "      <td>159.532</td>\n",
       "      <td>146.289</td>\n",
       "      <td>152.151</td>\n",
       "      <td>150.520</td>\n",
       "      <td>155.622</td>\n",
       "      <td>146.342</td>\n",
       "      <td>143.980</td>\n",
       "      <td>171.728</td>\n",
       "      <td>165.868</td>\n",
       "    </tr>\n",
       "  </tbody>\n",
       "</table>\n",
       "<p>4000 rows × 210 columns</p>\n",
       "</div>"
      ],
      "text/plain": [
       "         lp__  accept_stat__  stepsize__  treedepth__  n_leapfrog__  \\\n",
       "0    -267.392       0.856483    0.133023          5.0          31.0   \n",
       "1    -268.740       0.981101    0.133023          3.0          15.0   \n",
       "2    -269.137       0.996772    0.133023          4.0          31.0   \n",
       "3    -267.621       0.998276    0.133023          4.0          15.0   \n",
       "4    -267.685       0.982877    0.133023          5.0          31.0   \n",
       "...       ...            ...         ...          ...           ...   \n",
       "3995 -267.822       0.912076    0.125279          4.0          17.0   \n",
       "3996 -267.954       0.884447    0.125279          4.0          31.0   \n",
       "3997 -269.435       0.847055    0.125279          5.0          31.0   \n",
       "3998 -268.259       0.800145    0.125279          2.0           3.0   \n",
       "3999 -269.412       0.817882    0.125279          2.0           3.0   \n",
       "\n",
       "      divergent__  energy__    alpha     sigma      beta  ...  h_hat[91]  \\\n",
       "0             0.0   269.784  124.846   8.90091  0.667156  ...    155.374   \n",
       "1             0.0   269.417  121.915   9.97583  0.718784  ...    153.167   \n",
       "2             0.0   270.810  126.231  10.49870  0.623105  ...    169.875   \n",
       "3             0.0   269.494  123.794   9.31588  0.685893  ...    153.835   \n",
       "4             0.0   268.033  122.474   7.81962  0.709250  ...    153.044   \n",
       "...           ...       ...      ...       ...       ...  ...        ...   \n",
       "3995          0.0   268.569  125.985   8.54950  0.612396  ...    156.606   \n",
       "3996          0.0   270.039  119.803   7.81566  0.758741  ...    145.616   \n",
       "3997          0.0   269.949  117.354   8.04239  0.845913  ...    165.873   \n",
       "3998          0.0   271.211  117.507   7.96826  0.809452  ...    163.159   \n",
       "3999          0.0   269.544  117.144   7.91829  0.797505  ...    164.493   \n",
       "\n",
       "      h_hat[92]  h_hat[93]  h_hat[94]  h_hat[95]  h_hat[96]  h_hat[97]  \\\n",
       "0       143.077    139.917    161.359    161.428    154.731    148.849   \n",
       "1       156.946    143.039    164.745    160.010    165.853    139.592   \n",
       "2       134.910    156.968    172.588    135.898    156.115    153.637   \n",
       "3       148.918    166.737    151.126    158.593    158.905    153.905   \n",
       "4       161.527    150.780    150.992    155.029    176.828    147.470   \n",
       "...         ...        ...        ...        ...        ...        ...   \n",
       "3995    153.980    160.431    162.706    156.850    157.302    150.991   \n",
       "3996    153.441    154.063    154.716    174.028    159.488    144.917   \n",
       "3997    170.516    154.639    147.573    165.348    167.500    144.246   \n",
       "3998    162.416    152.784    167.758    147.485    167.315    133.424   \n",
       "3999    159.532    146.289    152.151    150.520    155.622    146.342   \n",
       "\n",
       "      h_hat[98]  h_hat[99]  h_hat[100]  \n",
       "0       163.081    159.741     158.163  \n",
       "1       145.802    171.879     142.481  \n",
       "2       157.516    146.261     147.147  \n",
       "3       164.055    157.937     148.605  \n",
       "4       157.331    148.599     147.940  \n",
       "...         ...        ...         ...  \n",
       "3995    158.240    153.975     161.736  \n",
       "3996    154.600    159.748     159.157  \n",
       "3997    162.273    161.510     143.186  \n",
       "3998    162.738    160.691     156.418  \n",
       "3999    143.980    171.728     165.868  \n",
       "\n",
       "[4000 rows x 210 columns]"
      ]
     },
     "execution_count": 45,
     "metadata": {},
     "output_type": "execute_result"
    }
   ],
   "source": [
    "df6 = fit.draws_pd()\n",
    "df6"
   ]
  },
  {
   "cell_type": "code",
   "execution_count": 51,
   "metadata": {},
   "outputs": [
    {
     "name": "stderr",
     "output_type": "stream",
     "text": [
      "INFO:cmdstanpy:CmdStan start processing\n",
      "chain 1 |\u001b[33m          \u001b[0m| 00:00 Status\n",
      "\u001b[A\n",
      "\n",
      "chain 1 |\u001b[33m████▌     \u001b[0m| 00:00 Iteration:  800 / 2000 [ 40%]  (Warmup)\n",
      "\u001b[A\n",
      "\n",
      "chain 1 |\u001b[34m██████████\u001b[0m| 00:00 Sampling completed                       \n",
      "chain 2 |\u001b[34m██████████\u001b[0m| 00:00 Sampling completed                       \n",
      "\n",
      "chain 3 |\u001b[34m██████████\u001b[0m| 00:00 Sampling completed\n",
      "chain 4 |\u001b[34m██████████\u001b[0m| 00:00 Sampling completed                       "
     ]
    },
    {
     "name": "stdout",
     "output_type": "stream",
     "text": [
      "                                                                                                                                                                                                                                                                                                                                "
     ]
    },
    {
     "name": "stderr",
     "output_type": "stream",
     "text": [
      "\n",
      "INFO:cmdstanpy:CmdStan done processing.\n"
     ]
    },
    {
     "name": "stdout",
     "output_type": "stream",
     "text": [
      "\n"
     ]
    },
    {
     "data": {
      "image/png": "[encoded data removed]",
      "text/plain": [
       "<Figure size 432x288 with 1 Axes>"
      ]
     },
     "metadata": {
      "needs_background": "light"
     },
     "output_type": "display_data"
    }
   ],
   "source": [
    "\n",
    "N = 50\n",
    "data_fit = {'N': N, 'weights': d.weight.values[:N], 'heights': d.height.values[:N]}\n",
    "fit=model_2_fit.sample(data=data_fit,seed=28052020)\n",
    "\n",
    "\n",
    "alpha_samples = df6['alpha'].values\n",
    "beta_samples = df6['beta'].values\n",
    "\n",
    "for i in range(len(alpha_samples)):\n",
    "    plt.plot(data_fit['weights'], beta_samples[i] * data_fit['weights'] + alpha_samples[i], 'gray', alpha=0.1)\n",
    "\n",
    "plt.plot([251] * len(data_fit['weights']), label='Tallest person', color='red')\n",
    "plt.plot([0] * len(data_fit['weights']), label='Shortest person', color='green')\n",
    "\n",
    "plt.title('N = {}'.format(N))\n",
    "plt.xlabel('Weight')\n",
    "plt.ylabel('Height')\n",
    "plt.tight_layout()\n",
    "plt.show()"
   ]
  },
  {
   "cell_type": "code",
   "execution_count": 52,
   "metadata": {},
   "outputs": [
    {
     "name": "stderr",
     "output_type": "stream",
     "text": [
      "INFO:cmdstanpy:CmdStan start processing\n",
      "chain 1 |\u001b[33m          \u001b[0m| 00:00 Status\n",
      "\u001b[A\n",
      "\n",
      "chain 1 |\u001b[33m█▊        \u001b[0m| 00:00 Iteration:  200 / 2000 [ 10%]  (Warmup)\n",
      "\u001b[A\n",
      "\n",
      "\u001b[A\u001b[A\n",
      "\u001b[A\n",
      "\n",
      "chain 1 |\u001b[34m██████▎   \u001b[0m| 00:00 Iteration: 1100 / 2000 [ 55%]  (Sampling)\n",
      "\n",
      "\u001b[A\u001b[A\n",
      "chain 1 |\u001b[34m██████████\u001b[0m| 00:00 Sampling completed                       \n",
      "chain 2 |\u001b[34m██████████\u001b[0m| 00:00 Sampling completed                       \n",
      "chain 3 |\u001b[34m██████████\u001b[0m| 00:00 Sampling completed                       \n",
      "chain 4 |\u001b[34m██████████\u001b[0m| 00:00 Sampling completed                       "
     ]
    },
    {
     "name": "stdout",
     "output_type": "stream",
     "text": [
      "                                                                                                                                                                                                                                                                                                                                "
     ]
    },
    {
     "name": "stderr",
     "output_type": "stream",
     "text": [
      "\n",
      "INFO:cmdstanpy:CmdStan done processing.\n"
     ]
    },
    {
     "name": "stdout",
     "output_type": "stream",
     "text": [
      "\n"
     ]
    },
    {
     "data": {
      "image/png": "[encoded data removed]",
      "text/plain": [
       "<Figure size 432x288 with 1 Axes>"
      ]
     },
     "metadata": {
      "needs_background": "light"
     },
     "output_type": "display_data"
    }
   ],
   "source": [
    "N = 100\n",
    "data_fit = {'N': N, 'weights': d.weight.values[:N], 'heights': d.height.values[:N]}\n",
    "fit=model_2_fit.sample(data=data_fit,seed=28052020)\n",
    "\n",
    "\n",
    "alpha_samples = df6['alpha'].values\n",
    "beta_samples = df6['beta'].values\n",
    "\n",
    "for i in range(len(alpha_samples)):\n",
    "    plt.plot(data_fit['weights'], beta_samples[i] * data_fit['weights'] + alpha_samples[i], 'gray', alpha=0.1)\n",
    "\n",
    "plt.plot([251] * len(data_fit['weights']), label='Tallest person', color='red')\n",
    "plt.plot([0] * len(data_fit['weights']), label='Shortest person', color='green')\n",
    "\n",
    "plt.title('N = {}'.format(N))\n",
    "plt.xlabel('Weight')\n",
    "plt.ylabel('Height')\n",
    "plt.tight_layout()\n",
    "plt.show()"
   ]
  },
  {
   "cell_type": "code",
   "execution_count": 55,
   "metadata": {},
   "outputs": [
    {
     "data": {
      "image/png": "[encoded data removed]",
      "text/plain": [
       "<Figure size 432x288 with 1 Axes>"
      ]
     },
     "metadata": {
      "needs_background": "light"
     },
     "output_type": "display_data"
    }
   ],
   "source": [
    "\n",
    "plt.plot(df6['alpha'])\n",
    "plt.title(f'Alpha')\n",
    "plt.show()\n",
    "\n"
   ]
  },
  {
   "cell_type": "code",
   "execution_count": 56,
   "metadata": {},
   "outputs": [
    {
     "data": {
      "image/png": "[encoded data removed]",
      "text/plain": [
       "<Figure size 432x288 with 1 Axes>"
      ]
     },
     "metadata": {
      "needs_background": "light"
     },
     "output_type": "display_data"
    }
   ],
   "source": [
    "plt.plot(df6['beta'])\n",
    "plt.title(f'Beta')\n",
    "plt.show()"
   ]
  },
  {
   "cell_type": "code",
   "execution_count": 64,
   "metadata": {},
   "outputs": [
    {
     "data": {
      "image/png": "[encoded data removed]",
      "text/plain": [
       "<Figure size 432x288 with 1 Axes>"
      ]
     },
     "metadata": {
      "needs_background": "light"
     },
     "output_type": "display_data"
    }
   ],
   "source": [
    "\n",
    "observed_heights = d['height'].head(50)\n",
    "weights = d['weight'].head(50)\n",
    "heights = df6.iloc[:,60:110]\n",
    "std = heights.std()[:50]\n",
    "mean = heights.mean()[:50]\n",
    "\n",
    "plt.figure(16)\n",
    "plt.errorbar(weights, mean, std, fmt=\"k.\", ecolor=\"green\", label=\"simulated\")\n",
    "plt.scatter(weights, observed_heights, color=\"red\", label=\"observed\")\n",
    "plt.xlabel(f'weight')\n",
    "plt.ylabel(f'height')\n",
    "plt.legend(loc='best')\n",
    "plt.show()"
   ]
  },
  {
   "attachments": {},
   "cell_type": "markdown",
   "metadata": {},
   "source": [
    "## Task 7. Extending the model\n",
    "\n"
   ]
  },
  {
   "cell_type": "code",
   "execution_count": 66,
   "metadata": {},
   "outputs": [
    {
     "name": "stderr",
     "output_type": "stream",
     "text": [
      "INFO:cmdstanpy:CmdStan start processing\n",
      "chain 1 |\u001b[33m          \u001b[0m| 00:00 Status\n",
      "\u001b[A\n",
      "\n",
      "chain 1 |\u001b[33m█████     \u001b[0m| 00:00 Iteration:  900 / 2000 [ 45%]  (Warmup)\n",
      "\u001b[A\n",
      "\n",
      "chain 1 |\u001b[34m██████████\u001b[0m| 00:00 Sampling completed                       \n",
      "chain 2 |\u001b[34m██████████\u001b[0m| 00:00 Sampling completed\n",
      "\n",
      "chain 3 |\u001b[34m██████████\u001b[0m| 00:00 Sampling completed\n",
      "chain 4 |\u001b[34m██████████\u001b[0m| 00:00 Sampling completed                       "
     ]
    },
    {
     "name": "stdout",
     "output_type": "stream",
     "text": [
      "                                                                                                                                                                                                                                                                                                                                "
     ]
    },
    {
     "name": "stderr",
     "output_type": "stream",
     "text": [
      "\n",
      "INFO:cmdstanpy:CmdStan done processing.\n"
     ]
    },
    {
     "name": "stdout",
     "output_type": "stream",
     "text": [
      "\n"
     ]
    }
   ],
   "source": [
    "N = 50\n",
    "data_fit = {'N': N, 'weights': d.weight.values[:N], 'heights': d.height.values[:N]}\n",
    "fit=model_2_fit.sample(data=data_fit,seed=28052020)\n",
    "\n"
   ]
  },
  {
   "cell_type": "code",
   "execution_count": 67,
   "metadata": {},
   "outputs": [
    {
     "data": {
      "text/html": [
       "<div>\n",
       "<style scoped>\n",
       "    .dataframe tbody tr th:only-of-type {\n",
       "        vertical-align: middle;\n",
       "    }\n",
       "\n",
       "    .dataframe tbody tr th {\n",
       "        vertical-align: top;\n",
       "    }\n",
       "\n",
       "    .dataframe thead th {\n",
       "        text-align: right;\n",
       "    }\n",
       "</style>\n",
       "<table border=\"1\" class=\"dataframe\">\n",
       "  <thead>\n",
       "    <tr style=\"text-align: right;\">\n",
       "      <th></th>\n",
       "      <th>lp__</th>\n",
       "      <th>accept_stat__</th>\n",
       "      <th>stepsize__</th>\n",
       "      <th>treedepth__</th>\n",
       "      <th>n_leapfrog__</th>\n",
       "      <th>divergent__</th>\n",
       "      <th>energy__</th>\n",
       "      <th>alpha</th>\n",
       "      <th>sigma</th>\n",
       "      <th>beta</th>\n",
       "      <th>...</th>\n",
       "      <th>h_hat[41]</th>\n",
       "      <th>h_hat[42]</th>\n",
       "      <th>h_hat[43]</th>\n",
       "      <th>h_hat[44]</th>\n",
       "      <th>h_hat[45]</th>\n",
       "      <th>h_hat[46]</th>\n",
       "      <th>h_hat[47]</th>\n",
       "      <th>h_hat[48]</th>\n",
       "      <th>h_hat[49]</th>\n",
       "      <th>h_hat[50]</th>\n",
       "    </tr>\n",
       "  </thead>\n",
       "  <tbody>\n",
       "    <tr>\n",
       "      <th>0</th>\n",
       "      <td>-142.359</td>\n",
       "      <td>0.724724</td>\n",
       "      <td>0.193319</td>\n",
       "      <td>2.0</td>\n",
       "      <td>3.0</td>\n",
       "      <td>0.0</td>\n",
       "      <td>146.002</td>\n",
       "      <td>140.086</td>\n",
       "      <td>11.8084</td>\n",
       "      <td>0.213543</td>\n",
       "      <td>...</td>\n",
       "      <td>145.696</td>\n",
       "      <td>151.604</td>\n",
       "      <td>155.575</td>\n",
       "      <td>149.833</td>\n",
       "      <td>147.240</td>\n",
       "      <td>147.322</td>\n",
       "      <td>148.301</td>\n",
       "      <td>154.858</td>\n",
       "      <td>131.989</td>\n",
       "      <td>158.183</td>\n",
       "    </tr>\n",
       "    <tr>\n",
       "      <th>1</th>\n",
       "      <td>-142.679</td>\n",
       "      <td>1.000000</td>\n",
       "      <td>0.193319</td>\n",
       "      <td>3.0</td>\n",
       "      <td>11.0</td>\n",
       "      <td>0.0</td>\n",
       "      <td>143.177</td>\n",
       "      <td>146.611</td>\n",
       "      <td>11.6708</td>\n",
       "      <td>0.238493</td>\n",
       "      <td>...</td>\n",
       "      <td>156.935</td>\n",
       "      <td>144.989</td>\n",
       "      <td>149.868</td>\n",
       "      <td>157.731</td>\n",
       "      <td>175.414</td>\n",
       "      <td>151.230</td>\n",
       "      <td>170.974</td>\n",
       "      <td>144.103</td>\n",
       "      <td>174.785</td>\n",
       "      <td>169.250</td>\n",
       "    </tr>\n",
       "    <tr>\n",
       "      <th>2</th>\n",
       "      <td>-140.223</td>\n",
       "      <td>0.905357</td>\n",
       "      <td>0.193319</td>\n",
       "      <td>4.0</td>\n",
       "      <td>27.0</td>\n",
       "      <td>0.0</td>\n",
       "      <td>144.976</td>\n",
       "      <td>141.216</td>\n",
       "      <td>11.0259</td>\n",
       "      <td>0.289445</td>\n",
       "      <td>...</td>\n",
       "      <td>155.354</td>\n",
       "      <td>166.554</td>\n",
       "      <td>144.898</td>\n",
       "      <td>152.385</td>\n",
       "      <td>175.347</td>\n",
       "      <td>164.162</td>\n",
       "      <td>145.171</td>\n",
       "      <td>159.418</td>\n",
       "      <td>162.826</td>\n",
       "      <td>145.303</td>\n",
       "    </tr>\n",
       "    <tr>\n",
       "      <th>3</th>\n",
       "      <td>-139.801</td>\n",
       "      <td>1.000000</td>\n",
       "      <td>0.193319</td>\n",
       "      <td>4.0</td>\n",
       "      <td>27.0</td>\n",
       "      <td>0.0</td>\n",
       "      <td>140.546</td>\n",
       "      <td>143.761</td>\n",
       "      <td>12.2411</td>\n",
       "      <td>0.208096</td>\n",
       "      <td>...</td>\n",
       "      <td>144.493</td>\n",
       "      <td>145.825</td>\n",
       "      <td>162.836</td>\n",
       "      <td>154.573</td>\n",
       "      <td>156.135</td>\n",
       "      <td>154.939</td>\n",
       "      <td>155.118</td>\n",
       "      <td>148.902</td>\n",
       "      <td>151.357</td>\n",
       "      <td>164.621</td>\n",
       "    </tr>\n",
       "    <tr>\n",
       "      <th>4</th>\n",
       "      <td>-140.241</td>\n",
       "      <td>0.942819</td>\n",
       "      <td>0.193319</td>\n",
       "      <td>4.0</td>\n",
       "      <td>31.0</td>\n",
       "      <td>0.0</td>\n",
       "      <td>140.798</td>\n",
       "      <td>136.116</td>\n",
       "      <td>11.6775</td>\n",
       "      <td>0.348038</td>\n",
       "      <td>...</td>\n",
       "      <td>136.677</td>\n",
       "      <td>161.523</td>\n",
       "      <td>150.801</td>\n",
       "      <td>163.132</td>\n",
       "      <td>159.373</td>\n",
       "      <td>142.164</td>\n",
       "      <td>140.969</td>\n",
       "      <td>162.026</td>\n",
       "      <td>138.509</td>\n",
       "      <td>157.441</td>\n",
       "    </tr>\n",
       "    <tr>\n",
       "      <th>...</th>\n",
       "      <td>...</td>\n",
       "      <td>...</td>\n",
       "      <td>...</td>\n",
       "      <td>...</td>\n",
       "      <td>...</td>\n",
       "      <td>...</td>\n",
       "      <td>...</td>\n",
       "      <td>...</td>\n",
       "      <td>...</td>\n",
       "      <td>...</td>\n",
       "      <td>...</td>\n",
       "      <td>...</td>\n",
       "      <td>...</td>\n",
       "      <td>...</td>\n",
       "      <td>...</td>\n",
       "      <td>...</td>\n",
       "      <td>...</td>\n",
       "      <td>...</td>\n",
       "      <td>...</td>\n",
       "      <td>...</td>\n",
       "      <td>...</td>\n",
       "    </tr>\n",
       "    <tr>\n",
       "      <th>3995</th>\n",
       "      <td>-140.723</td>\n",
       "      <td>0.928041</td>\n",
       "      <td>0.211948</td>\n",
       "      <td>4.0</td>\n",
       "      <td>23.0</td>\n",
       "      <td>0.0</td>\n",
       "      <td>143.232</td>\n",
       "      <td>146.421</td>\n",
       "      <td>13.2624</td>\n",
       "      <td>0.145827</td>\n",
       "      <td>...</td>\n",
       "      <td>148.497</td>\n",
       "      <td>155.271</td>\n",
       "      <td>148.380</td>\n",
       "      <td>182.499</td>\n",
       "      <td>157.418</td>\n",
       "      <td>159.493</td>\n",
       "      <td>149.268</td>\n",
       "      <td>160.821</td>\n",
       "      <td>153.288</td>\n",
       "      <td>163.138</td>\n",
       "    </tr>\n",
       "    <tr>\n",
       "      <th>3996</th>\n",
       "      <td>-141.251</td>\n",
       "      <td>0.759110</td>\n",
       "      <td>0.211948</td>\n",
       "      <td>2.0</td>\n",
       "      <td>3.0</td>\n",
       "      <td>0.0</td>\n",
       "      <td>143.425</td>\n",
       "      <td>146.244</td>\n",
       "      <td>13.7153</td>\n",
       "      <td>0.146769</td>\n",
       "      <td>...</td>\n",
       "      <td>141.910</td>\n",
       "      <td>137.619</td>\n",
       "      <td>127.147</td>\n",
       "      <td>152.479</td>\n",
       "      <td>142.458</td>\n",
       "      <td>116.540</td>\n",
       "      <td>164.992</td>\n",
       "      <td>171.298</td>\n",
       "      <td>148.612</td>\n",
       "      <td>170.194</td>\n",
       "    </tr>\n",
       "    <tr>\n",
       "      <th>3997</th>\n",
       "      <td>-141.206</td>\n",
       "      <td>0.987996</td>\n",
       "      <td>0.211948</td>\n",
       "      <td>2.0</td>\n",
       "      <td>3.0</td>\n",
       "      <td>0.0</td>\n",
       "      <td>141.569</td>\n",
       "      <td>147.470</td>\n",
       "      <td>13.6857</td>\n",
       "      <td>0.148791</td>\n",
       "      <td>...</td>\n",
       "      <td>130.068</td>\n",
       "      <td>146.882</td>\n",
       "      <td>173.832</td>\n",
       "      <td>159.656</td>\n",
       "      <td>163.046</td>\n",
       "      <td>161.688</td>\n",
       "      <td>126.890</td>\n",
       "      <td>149.844</td>\n",
       "      <td>151.184</td>\n",
       "      <td>157.728</td>\n",
       "    </tr>\n",
       "    <tr>\n",
       "      <th>3998</th>\n",
       "      <td>-142.152</td>\n",
       "      <td>0.738771</td>\n",
       "      <td>0.211948</td>\n",
       "      <td>2.0</td>\n",
       "      <td>3.0</td>\n",
       "      <td>0.0</td>\n",
       "      <td>143.969</td>\n",
       "      <td>145.150</td>\n",
       "      <td>13.9584</td>\n",
       "      <td>0.140337</td>\n",
       "      <td>...</td>\n",
       "      <td>155.970</td>\n",
       "      <td>120.217</td>\n",
       "      <td>140.482</td>\n",
       "      <td>173.991</td>\n",
       "      <td>134.015</td>\n",
       "      <td>164.142</td>\n",
       "      <td>167.543</td>\n",
       "      <td>155.077</td>\n",
       "      <td>144.173</td>\n",
       "      <td>156.476</td>\n",
       "    </tr>\n",
       "    <tr>\n",
       "      <th>3999</th>\n",
       "      <td>-140.691</td>\n",
       "      <td>0.998231</td>\n",
       "      <td>0.211948</td>\n",
       "      <td>4.0</td>\n",
       "      <td>15.0</td>\n",
       "      <td>0.0</td>\n",
       "      <td>142.615</td>\n",
       "      <td>138.163</td>\n",
       "      <td>11.3334</td>\n",
       "      <td>0.387646</td>\n",
       "      <td>...</td>\n",
       "      <td>169.311</td>\n",
       "      <td>155.183</td>\n",
       "      <td>161.901</td>\n",
       "      <td>159.304</td>\n",
       "      <td>162.965</td>\n",
       "      <td>161.355</td>\n",
       "      <td>142.280</td>\n",
       "      <td>171.613</td>\n",
       "      <td>153.375</td>\n",
       "      <td>152.941</td>\n",
       "    </tr>\n",
       "  </tbody>\n",
       "</table>\n",
       "<p>4000 rows × 110 columns</p>\n",
       "</div>"
      ],
      "text/plain": [
       "         lp__  accept_stat__  stepsize__  treedepth__  n_leapfrog__  \\\n",
       "0    -142.359       0.724724    0.193319          2.0           3.0   \n",
       "1    -142.679       1.000000    0.193319          3.0          11.0   \n",
       "2    -140.223       0.905357    0.193319          4.0          27.0   \n",
       "3    -139.801       1.000000    0.193319          4.0          27.0   \n",
       "4    -140.241       0.942819    0.193319          4.0          31.0   \n",
       "...       ...            ...         ...          ...           ...   \n",
       "3995 -140.723       0.928041    0.211948          4.0          23.0   \n",
       "3996 -141.251       0.759110    0.211948          2.0           3.0   \n",
       "3997 -141.206       0.987996    0.211948          2.0           3.0   \n",
       "3998 -142.152       0.738771    0.211948          2.0           3.0   \n",
       "3999 -140.691       0.998231    0.211948          4.0          15.0   \n",
       "\n",
       "      divergent__  energy__    alpha    sigma      beta  ...  h_hat[41]  \\\n",
       "0             0.0   146.002  140.086  11.8084  0.213543  ...    145.696   \n",
       "1             0.0   143.177  146.611  11.6708  0.238493  ...    156.935   \n",
       "2             0.0   144.976  141.216  11.0259  0.289445  ...    155.354   \n",
       "3             0.0   140.546  143.761  12.2411  0.208096  ...    144.493   \n",
       "4             0.0   140.798  136.116  11.6775  0.348038  ...    136.677   \n",
       "...           ...       ...      ...      ...       ...  ...        ...   \n",
       "3995          0.0   143.232  146.421  13.2624  0.145827  ...    148.497   \n",
       "3996          0.0   143.425  146.244  13.7153  0.146769  ...    141.910   \n",
       "3997          0.0   141.569  147.470  13.6857  0.148791  ...    130.068   \n",
       "3998          0.0   143.969  145.150  13.9584  0.140337  ...    155.970   \n",
       "3999          0.0   142.615  138.163  11.3334  0.387646  ...    169.311   \n",
       "\n",
       "      h_hat[42]  h_hat[43]  h_hat[44]  h_hat[45]  h_hat[46]  h_hat[47]  \\\n",
       "0       151.604    155.575    149.833    147.240    147.322    148.301   \n",
       "1       144.989    149.868    157.731    175.414    151.230    170.974   \n",
       "2       166.554    144.898    152.385    175.347    164.162    145.171   \n",
       "3       145.825    162.836    154.573    156.135    154.939    155.118   \n",
       "4       161.523    150.801    163.132    159.373    142.164    140.969   \n",
       "...         ...        ...        ...        ...        ...        ...   \n",
       "3995    155.271    148.380    182.499    157.418    159.493    149.268   \n",
       "3996    137.619    127.147    152.479    142.458    116.540    164.992   \n",
       "3997    146.882    173.832    159.656    163.046    161.688    126.890   \n",
       "3998    120.217    140.482    173.991    134.015    164.142    167.543   \n",
       "3999    155.183    161.901    159.304    162.965    161.355    142.280   \n",
       "\n",
       "      h_hat[48]  h_hat[49]  h_hat[50]  \n",
       "0       154.858    131.989    158.183  \n",
       "1       144.103    174.785    169.250  \n",
       "2       159.418    162.826    145.303  \n",
       "3       148.902    151.357    164.621  \n",
       "4       162.026    138.509    157.441  \n",
       "...         ...        ...        ...  \n",
       "3995    160.821    153.288    163.138  \n",
       "3996    171.298    148.612    170.194  \n",
       "3997    149.844    151.184    157.728  \n",
       "3998    155.077    144.173    156.476  \n",
       "3999    171.613    153.375    152.941  \n",
       "\n",
       "[4000 rows x 110 columns]"
      ]
     },
     "execution_count": 67,
     "metadata": {},
     "output_type": "execute_result"
    }
   ],
   "source": [
    "df7 = fit.draws_pd()\n",
    "df7"
   ]
  },
  {
   "cell_type": "code",
   "execution_count": 68,
   "metadata": {},
   "outputs": [
    {
     "data": {
      "image/png": "[encoded data removed]",
      "text/plain": [
       "<Figure size 432x288 with 1 Axes>"
      ]
     },
     "metadata": {
      "needs_background": "light"
     },
     "output_type": "display_data"
    }
   ],
   "source": [
    "observed_heights = d['height'].head(50)\n",
    "weights = d['weight'].head(50)\n",
    "heights = df7.iloc[:,60:110]\n",
    "std = heights.std()[:50]\n",
    "mean = heights.mean()[:50]\n",
    "\n",
    "plt.figure(16)\n",
    "plt.errorbar(weights, mean, std, fmt=\"k.\", ecolor=\"green\", label=\"simulated\")\n",
    "plt.scatter(weights, observed_heights, color=\"red\", label=\"observed\")\n",
    "plt.xlabel(f'weight')\n",
    "plt.ylabel(f'height')\n",
    "plt.legend(loc='best')\n",
    "plt.show()"
   ]
  },
  {
   "cell_type": "markdown",
   "metadata": {},
   "source": []
  }
 ],
 "metadata": {
  "kernelspec": {
   "display_name": "Python 3",
   "language": "python",
   "name": "python3"
  },
  "language_info": {
   "codemirror_mode": {
    "name": "ipython",
    "version": 3
   },
   "file_extension": ".py",
   "mimetype": "text/x-python",
   "name": "python",
   "nbconvert_exporter": "python",
   "pygments_lexer": "ipython3",
   "version": "3.9.11"
  },
  "vscode": {
   "interpreter": {
    "hash": "949777d72b0d2535278d3dc13498b2535136f6dfe0678499012e853ee9abcab1"
   }
  }
 },
 "nbformat": 4,
 "nbformat_minor": 2
}
